{
 "cells": [
  {
   "cell_type": "code",
   "execution_count": 1,
   "metadata": {},
   "outputs": [],
   "source": [
    "import numpy as np  # Importa la biblioteca NumPy bajo el alias 'np' para realizar cálculos numéricos.\n",
    "from shapely.ops import split  # Importa la función 'split' desde Shapely para realizar operaciones de división en geometrías.\n",
    "import geopandas as gpd  # Importa la biblioteca GeoPandas bajo el alias 'gpd' para el análisis de datos geoespaciales.\n",
    "from shapely.geometry import MultiPolygon, Polygon, LineString  # Importa varios tipos de geometrías desde Shapely para representar formas geométricas en el espacio.\n",
    "import ee\n",
    "import geojson"
   ]
  },
  {
   "cell_type": "code",
   "execution_count": 2,
   "metadata": {},
   "outputs": [],
   "source": [
    "def descargar_imagen_landsat8(geometry, fecha_inicio, fecha_fin, tipoImagen):\n",
    "  band = ['B4', 'B3', 'B2']\n",
    "\n",
    "  # Inicializar la API de Google Earth Engine\n",
    "  ee.Initialize()\n",
    "\n",
    "  # Definir la geometría\n",
    "  geometry = ee.Geometry.Polygon(\n",
    "    [geometry], None, False);\n",
    "  \n",
    "  IMGLandsat8 = ee.ImageCollection('LANDSAT/LC08/C02/T1_RT_TOA') \\\n",
    "      .filterDate(fecha_inicio, fecha_fin) \\\n",
    "      .filterBounds(geometry) \\\n",
    "      .filterMetadata('CLOUD_COVER', 'less_than', 20)\n",
    "\n",
    "  # Obtener la imagen mediana\n",
    "  Landsat8Filtro = IMGLandsat8.median()\n",
    "\n",
    "  # Recortar la imagen con la geometría\n",
    "  Landsat8Clip = Landsat8Filtro.clip(geometry)\n",
    "\n",
    "\n",
    "\n",
    "  imagenRGB = Landsat8Clip.visualize(**{'min': 0,'max': 0.5, 'bands': band})\n",
    "  extension = 'jpg'\n",
    "\n",
    "  url = imagenRGB.getThumbURL({ 'region': geometry, 'dimensions': 500, 'format': extension })\n",
    "  \n",
    "\n",
    "  return url"
   ]
  },
  {
   "cell_type": "code",
   "execution_count": 3,
   "metadata": {},
   "outputs": [],
   "source": [
    "# Ruta del archivo de datos geoespaciales (Shapefile) que se va a leer.\n",
    "geo_filepath = \"shapefiles/nombre_shapefile.shp\""
   ]
  },
  {
   "cell_type": "code",
   "execution_count": 4,
   "metadata": {},
   "outputs": [],
   "source": [
    "# Lee el archivo Shapefile especificado en 'geo_filepath' y lo carga en un GeoDataFrame (GeoDF).\n",
    "GeoDF = gpd.read_file(geo_filepath)\n"
   ]
  },
  {
   "cell_type": "code",
   "execution_count": 5,
   "metadata": {},
   "outputs": [
    {
     "data": {
      "image/svg+xml": [
       "<svg xmlns=\"http://www.w3.org/2000/svg\" xmlns:xlink=\"http://www.w3.org/1999/xlink\" width=\"100.0\" height=\"100.0\" viewBox=\"-73.05408813727604 -36.84314394417189 0.05904808044398635 0.042163067510223584\" preserveAspectRatio=\"xMinYMin meet\"><g transform=\"matrix(1,0,0,-1,0,-73.64412482083355)\"><path fill-rule=\"evenodd\" fill=\"#66cc99\" stroke=\"#555555\" stroke-width=\"0.001180961608879727\" opacity=\"0.6\" d=\"M -73.04142982734002,-36.807703524090286 L -73.00229103339437,-36.80316784260404 L -72.99722702277442,-36.8230266421785 L -73.02838356269123,-36.84095697822952 L -73.05190117133367,-36.82666800831895 L -73.04142982734002,-36.807703524090286 z\" /></g></svg>"
      ],
      "text/plain": [
       "<POLYGON ((-73.041 -36.808, -73.002 -36.803, -72.997 -36.823, -73.028 -36.84...>"
      ]
     },
     "execution_count": 5,
     "metadata": {},
     "output_type": "execute_result"
    }
   ],
   "source": [
    "# Selecciona una geometría aleatoria del GeoDataFrame 'GeoDF' y almacénala en la variable 'G'.\n",
    "\n",
    "G = np.random.choice(GeoDF.geometry.values)\n",
    "G"
   ]
  },
  {
   "cell_type": "code",
   "execution_count": 6,
   "metadata": {},
   "outputs": [
    {
     "data": {
      "image/svg+xml": [
       "<svg xmlns=\"http://www.w3.org/2000/svg\" xmlns:xlink=\"http://www.w3.org/1999/xlink\" width=\"100.0\" height=\"100.0\" viewBox=\"-73.05408813727604 -36.84314394417189 0.05904808044398635 0.042163067510223584\" preserveAspectRatio=\"xMinYMin meet\"><g transform=\"matrix(1,0,0,-1,0,-73.64412482083355)\"><path fill-rule=\"evenodd\" fill=\"#66cc99\" stroke=\"#555555\" stroke-width=\"0.001180961608879727\" opacity=\"0.6\" d=\"M -73.05190117133367,-36.84095697822952 L -72.99722702277442,-36.84095697822952 L -72.99722702277442,-36.80316784260404 L -73.05190117133367,-36.80316784260404 L -73.05190117133367,-36.84095697822952 z\" /></g></svg>"
      ],
      "text/plain": [
       "<POLYGON ((-73.052 -36.841, -72.997 -36.841, -72.997 -36.803, -73.052 -36.80...>"
      ]
     },
     "execution_count": 6,
     "metadata": {},
     "output_type": "execute_result"
    }
   ],
   "source": [
    "# Calcula la envolvente (rectángulo delimitador) de la geometría almacenada en 'G' y almacena el resultado en 'Rectangle'.\n",
    "Rectangle = G.envelope\n",
    "Rectangle"
   ]
  },
  {
   "cell_type": "code",
   "execution_count": 7,
   "metadata": {},
   "outputs": [
    {
     "data": {
      "text/plain": [
       "(0.05467414855924346, 0.037789135625480696)"
      ]
     },
     "execution_count": 7,
     "metadata": {},
     "output_type": "execute_result"
    }
   ],
   "source": [
    "# Longitud del lado de la celda\n",
    "side_length = 0.02\n",
    "\n",
    "# Obtiene las coordenadas de la envolvente del rectángulo y las almacena en 'rect_coords'\n",
    "rect_coords = np.array(Rectangle.boundary.coords.xy)\n",
    "\n",
    "# Extrae las listas de coordenadas x e y de 'rect_coords'\n",
    "y_list = rect_coords[1]\n",
    "x_list = rect_coords[0]\n",
    "\n",
    "# Calcula los valores mínimos y máximos de las coordenadas y para obtener la altura del rectángulo\n",
    "y1 = min(y_list)\n",
    "y2 = max(y_list)\n",
    "\n",
    "# Calcula los valores mínimos y máximos de las coordenadas x para obtener el ancho del rectángulo\n",
    "x1 = min(x_list)\n",
    "x2 = max(x_list)\n",
    "\n",
    "# Calcula el ancho y la altura del rectángulo\n",
    "width = x2 - x1\n",
    "height = y2 - y1\n",
    "\n",
    "# Calcula el número de celdas en la dirección x e y, redondeando al entero más cercano\n",
    "xcells = int(np.round(width / side_length))\n",
    "ycells = int(np.round(height / side_length))\n",
    "\n",
    "# Crea una serie de índices igualmente espaciados en las direcciones x e y\n",
    "yindices = np.linspace(y1, y2, ycells + 1)\n",
    "xindices = np.linspace(x1, x2, xcells + 1)\n",
    "width,height\n"
   ]
  },
  {
   "cell_type": "code",
   "execution_count": 8,
   "metadata": {},
   "outputs": [
    {
     "data": {
      "text/plain": [
       "[<LINESTRING (-73.052 -36.841, -73.052 -36.803)>,\n",
       " <LINESTRING (-73.034 -36.841, -73.034 -36.803)>,\n",
       " <LINESTRING (-73.015 -36.841, -73.015 -36.803)>,\n",
       " <LINESTRING (-72.997 -36.841, -72.997 -36.803)>]"
      ]
     },
     "execution_count": 8,
     "metadata": {},
     "output_type": "execute_result"
    }
   ],
   "source": [
    "# Crea una lista de líneas horizontales que atraviesan el rectángulo delimitador en direcciones verticales.\n",
    "horizontal_splitters = [\n",
    "    LineString([(x, yindices[0]), (x, yindices[-1])]) for x in xindices\n",
    "]\n",
    "\n",
    "# Imprime la lista de líneas horizontales.\n",
    "horizontal_splitters"
   ]
  },
  {
   "cell_type": "code",
   "execution_count": 9,
   "metadata": {},
   "outputs": [
    {
     "data": {
      "text/plain": [
       "[<LINESTRING (-73.052 -36.841, -72.997 -36.841)>,\n",
       " <LINESTRING (-73.052 -36.822, -72.997 -36.822)>,\n",
       " <LINESTRING (-73.052 -36.803, -72.997 -36.803)>]"
      ]
     },
     "execution_count": 9,
     "metadata": {},
     "output_type": "execute_result"
    }
   ],
   "source": [
    "# Crea una lista de líneas verticales que atraviesan el rectángulo delimitador en direcciones horizontales.\n",
    "vertical_splitters = [\n",
    "    LineString([(xindices[0], y), (xindices[-1], y)]) for y in yindices\n",
    "]\n",
    "\n",
    "# Imprime la lista de líneas verticales.\n",
    "vertical_splitters"
   ]
  },
  {
   "cell_type": "code",
   "execution_count": 10,
   "metadata": {},
   "outputs": [
    {
     "data": {
      "image/svg+xml": [
       "<svg xmlns=\"http://www.w3.org/2000/svg\" xmlns:xlink=\"http://www.w3.org/1999/xlink\" width=\"100.0\" height=\"100.0\" viewBox=\"-73.05408813727604 -36.84314394417189 0.05904808044398635 0.042163067510223584\" preserveAspectRatio=\"xMinYMin meet\"><g transform=\"matrix(1,0,0,-1,0,-73.64412482083355)\"><path fill-rule=\"evenodd\" fill=\"#66cc99\" stroke=\"#555555\" stroke-width=\"0.001180961608879727\" opacity=\"0.6\" d=\"M -73.05190117133367,-36.84095697822952 L -72.99722702277442,-36.84095697822952 L -72.99722702277442,-36.80316784260404 L -73.05190117133367,-36.80316784260404 L -73.05190117133367,-36.84095697822952 z\" /></g></svg>"
      ],
      "text/plain": [
       "<POLYGON ((-73.052 -36.841, -72.997 -36.841, -72.997 -36.803, -73.052 -36.80...>"
      ]
     },
     "execution_count": 10,
     "metadata": {},
     "output_type": "execute_result"
    }
   ],
   "source": [
    "# Asigna la geometría del rectángulo delimitador original a la variable 'result'.\n",
    "result = Rectangle\n",
    "\n",
    "# Imprime 'result', que ahora contiene la misma geometría que 'Rectangle'.\n",
    "result"
   ]
  },
  {
   "cell_type": "code",
   "execution_count": 11,
   "metadata": {},
   "outputs": [
    {
     "data": {
      "image/svg+xml": [
       "<svg xmlns=\"http://www.w3.org/2000/svg\" xmlns:xlink=\"http://www.w3.org/1999/xlink\" width=\"100.0\" height=\"100.0\" viewBox=\"-73.05408813727604 -36.84314394417189 0.05904808044398635 0.042163067510223584\" preserveAspectRatio=\"xMinYMin meet\"><g transform=\"matrix(1,0,0,-1,0,-73.64412482083355)\"><g><path fill-rule=\"evenodd\" fill=\"#ff3333\" stroke=\"#555555\" stroke-width=\"0.001180961608879727\" opacity=\"0.6\" d=\"M -72.99722702277442,-36.84095697822952 L -73.05190117133367,-36.84095697822952 L -73.05190117133367,-36.82206241041678 L -72.99722702277442,-36.82206241041678 L -72.99722702277442,-36.84095697822952 z\" /><path fill-rule=\"evenodd\" fill=\"#ff3333\" stroke=\"#555555\" stroke-width=\"0.001180961608879727\" opacity=\"0.6\" d=\"M -73.05190117133367,-36.82206241041678 L -73.05190117133367,-36.80316784260404 L -72.99722702277442,-36.80316784260404 L -72.99722702277442,-36.82206241041678 L -73.05190117133367,-36.82206241041678 z\" /></g></g></svg>"
      ],
      "text/plain": [
       "<MULTIPOLYGON (((-72.997 -36.841, -73.052 -36.841, -73.052 -36.822, -72.997 ...>"
      ]
     },
     "execution_count": 11,
     "metadata": {},
     "output_type": "execute_result"
    }
   ],
   "source": [
    "# Itera sobre la lista de líneas verticales 'vertical_splitters' y divide la geometría 'result' en múltiples polígonos.\n",
    "for splitter in vertical_splitters:\n",
    "    result = MultiPolygon(split(result, splitter))\n",
    "\n",
    "# Imprime 'result', que ahora contiene los polígonos resultantes después de la división.\n",
    "result"
   ]
  },
  {
   "cell_type": "code",
   "execution_count": 12,
   "metadata": {},
   "outputs": [
    {
     "data": {
      "image/svg+xml": [
       "<svg xmlns=\"http://www.w3.org/2000/svg\" xmlns:xlink=\"http://www.w3.org/1999/xlink\" width=\"100.0\" height=\"100.0\" viewBox=\"-73.05408813727604 -36.84314394417189 0.05904808044398635 0.042163067510223584\" preserveAspectRatio=\"xMinYMin meet\"><g transform=\"matrix(1,0,0,-1,0,-73.64412482083355)\"><g><path fill-rule=\"evenodd\" fill=\"#ff3333\" stroke=\"#555555\" stroke-width=\"0.001180961608879727\" opacity=\"0.6\" d=\"M -72.99722702277442,-36.84095697822952 L -73.01545173896083,-36.84095697822952 L -73.01545173896083,-36.82206241041678 L -72.99722702277442,-36.82206241041678 L -72.99722702277442,-36.84095697822952 z\" /><path fill-rule=\"evenodd\" fill=\"#ff3333\" stroke=\"#555555\" stroke-width=\"0.001180961608879727\" opacity=\"0.6\" d=\"M -73.01545173896083,-36.84095697822952 L -73.03367645514726,-36.84095697822952 L -73.03367645514726,-36.82206241041678 L -73.01545173896083,-36.82206241041678 L -73.01545173896083,-36.84095697822952 z\" /><path fill-rule=\"evenodd\" fill=\"#ff3333\" stroke=\"#555555\" stroke-width=\"0.001180961608879727\" opacity=\"0.6\" d=\"M -73.03367645514726,-36.84095697822952 L -73.05190117133367,-36.84095697822952 L -73.05190117133367,-36.82206241041678 L -73.03367645514726,-36.82206241041678 L -73.03367645514726,-36.84095697822952 z\" /><path fill-rule=\"evenodd\" fill=\"#ff3333\" stroke=\"#555555\" stroke-width=\"0.001180961608879727\" opacity=\"0.6\" d=\"M -73.05190117133367,-36.82206241041678 L -73.05190117133367,-36.80316784260404 L -73.03367645514726,-36.80316784260404 L -73.03367645514726,-36.82206241041678 L -73.05190117133367,-36.82206241041678 z\" /><path fill-rule=\"evenodd\" fill=\"#ff3333\" stroke=\"#555555\" stroke-width=\"0.001180961608879727\" opacity=\"0.6\" d=\"M -73.03367645514726,-36.80316784260404 L -73.01545173896083,-36.80316784260404 L -73.01545173896083,-36.82206241041678 L -73.03367645514726,-36.82206241041678 L -73.03367645514726,-36.80316784260404 z\" /><path fill-rule=\"evenodd\" fill=\"#ff3333\" stroke=\"#555555\" stroke-width=\"0.001180961608879727\" opacity=\"0.6\" d=\"M -73.01545173896083,-36.80316784260404 L -72.99722702277442,-36.80316784260404 L -72.99722702277442,-36.82206241041678 L -73.01545173896083,-36.82206241041678 L -73.01545173896083,-36.80316784260404 z\" /></g></g></svg>"
      ],
      "text/plain": [
       "<MULTIPOLYGON (((-72.997 -36.841, -73.015 -36.841, -73.015 -36.822, -72.997 ...>"
      ]
     },
     "execution_count": 12,
     "metadata": {},
     "output_type": "execute_result"
    }
   ],
   "source": [
    "# Itera sobre la lista de líneas horizontales 'horizontal_splitters' y divide la geometría 'result' en múltiples polígonos.\n",
    "for splitter in horizontal_splitters:\n",
    "    result = MultiPolygon(split(result, splitter))\n",
    "\n",
    "# Imprime 'result', que ahora contiene los polígonos resultantes después de la división horizontal y vertical.\n",
    "result\n"
   ]
  },
  {
   "cell_type": "code",
   "execution_count": 13,
   "metadata": {},
   "outputs": [
    {
     "data": {
      "text/plain": [
       "6"
      ]
     },
     "execution_count": 13,
     "metadata": {},
     "output_type": "execute_result"
    }
   ],
   "source": [
    "# Extrae los polígonos individuales del resultado final 'result' y los almacena en la lista 'square_polygons'.\n",
    "square_polygons = list(result.geoms)\n",
    "len(square_polygons)\n"
   ]
  },
  {
   "cell_type": "code",
   "execution_count": 14,
   "metadata": {},
   "outputs": [],
   "source": [
    "# Crea un GeoDataFrame a partir de la lista de polígonos 'square_polygons'.\n",
    "df = gpd.GeoDataFrame(square_polygons)\n"
   ]
  },
  {
   "cell_type": "code",
   "execution_count": 15,
   "metadata": {},
   "outputs": [],
   "source": [
    "# Crea un nuevo GeoDataFrame a partir de la lista de polígonos 'square_polygons'.\n",
    "SquareGeoDF  = gpd.GeoDataFrame(square_polygons).rename(columns={0: \"geometry\"})"
   ]
  },
  {
   "cell_type": "code",
   "execution_count": 16,
   "metadata": {},
   "outputs": [],
   "source": [
    "# Crea un nuevo GeoDataFrame a partir de la lista de polígonos 'square_polygons'.\n",
    "SquareGeoDF = gpd.GeoDataFrame(square_polygons)\n",
    "\n",
    "# Establece la geometría del GeoDataFrame en la primera columna (índice 0) de los datos.\n",
    "SquareGeoDF = SquareGeoDF.set_geometry(0)\n"
   ]
  },
  {
   "cell_type": "code",
   "execution_count": 17,
   "metadata": {},
   "outputs": [],
   "source": [
    "# Extrae las geometrías de 'SquareGeoDF' que se intersectan con la geometría 'G' y las almacena en 'Geoms'.\n",
    "Geoms = SquareGeoDF[SquareGeoDF.intersects(G)].geometry.values\n",
    "\n",
    "# Define una variable 'shape' con el valor \"square\".\n",
    "shape = \"square\"\n",
    "\n",
    "# Define una variable 'thresh' con el valor 0.9.\n",
    "thresh = 0.2"
   ]
  },
  {
   "cell_type": "code",
   "execution_count": 18,
   "metadata": {},
   "outputs": [
    {
     "data": {
      "text/plain": [
       "6"
      ]
     },
     "execution_count": 18,
     "metadata": {},
     "output_type": "execute_result"
    }
   ],
   "source": [
    "# Si la variable 'shape' es igual a \"rhombus\", realiza las siguientes operaciones.\n",
    "if shape == \"rhombus\":\n",
    "    # Aplica una función 'rhombus(g)' a cada geometría en 'Geoms' y almacena los resultados en 'Geoms'.\n",
    "    #Geoms = [rhombus(g) for g in Geoms]\n",
    "    # Filtra las geometrías en 'Geoms' que cumplen con una condición de área y las almacena en 'geoms'.\n",
    "    geoms = [g for g in Geoms if ((g.intersection(G)).area / g.area) >= thresh]\n",
    "\n",
    "# Si la variable 'shape' es igual a \"square\", realiza las siguientes operaciones.\n",
    "elif shape == \"square\":\n",
    "   \n",
    "    # Filtra las geometrías en 'Geoms' que cumplen con una condición de área y las almacena en 'geoms'.\n",
    "    geoms = [g for g in Geoms if ((g.intersection(G)).area / g.area) >= thresh]\n",
    "\n",
    "geoms\n",
    "len(geoms)"
   ]
  },
  {
   "cell_type": "code",
   "execution_count": 19,
   "metadata": {},
   "outputs": [
    {
     "data": {
      "image/svg+xml": [
       "<svg xmlns=\"http://www.w3.org/2000/svg\" xmlns:xlink=\"http://www.w3.org/1999/xlink\" width=\"100.0\" height=\"100.0\" viewBox=\"-73.05408813727604 -36.84314394417189 0.05904808044398635 0.042163067510223584\" preserveAspectRatio=\"xMinYMin meet\"><g transform=\"matrix(1,0,0,-1,0,-73.64412482083355)\"><path fill-rule=\"evenodd\" fill=\"#66cc99\" stroke=\"#555555\" stroke-width=\"0.001180961608879727\" opacity=\"0.6\" d=\"M -73.05190117133367,-36.84095697822952 L -72.99722702277442,-36.84095697822952 L -72.99722702277442,-36.80316784260404 L -73.05190117133367,-36.80316784260404 L -73.05190117133367,-36.84095697822952 z\" /></g></svg>"
      ],
      "text/plain": [
       "<POLYGON ((-73.052 -36.841, -72.997 -36.841, -72.997 -36.803, -73.052 -36.80...>"
      ]
     },
     "execution_count": 19,
     "metadata": {},
     "output_type": "execute_result"
    }
   ],
   "source": [
    "Rectangle"
   ]
  },
  {
   "cell_type": "code",
   "execution_count": 20,
   "metadata": {},
   "outputs": [
    {
     "data": {
      "image/svg+xml": [
       "<svg xmlns=\"http://www.w3.org/2000/svg\" xmlns:xlink=\"http://www.w3.org/1999/xlink\" width=\"100.0\" height=\"100.0\" viewBox=\"-73.05408813727604 -36.84314394417189 0.05904808044398635 0.042163067510223584\" preserveAspectRatio=\"xMinYMin meet\"><g transform=\"matrix(1,0,0,-1,0,-73.64412482083355)\"><path fill-rule=\"evenodd\" fill=\"#66cc99\" stroke=\"#555555\" stroke-width=\"0.001180961608879727\" opacity=\"0.6\" d=\"M -73.04142982734002,-36.807703524090286 L -73.00229103339437,-36.80316784260404 L -72.99722702277442,-36.8230266421785 L -73.02838356269123,-36.84095697822952 L -73.05190117133367,-36.82666800831895 L -73.04142982734002,-36.807703524090286 z\" /></g></svg>"
      ],
      "text/plain": [
       "<POLYGON ((-73.041 -36.808, -73.002 -36.803, -72.997 -36.823, -73.028 -36.84...>"
      ]
     },
     "execution_count": 20,
     "metadata": {},
     "output_type": "execute_result"
    }
   ],
   "source": [
    "G"
   ]
  },
  {
   "cell_type": "code",
   "execution_count": 21,
   "metadata": {},
   "outputs": [
    {
     "name": "stdout",
     "output_type": "stream",
     "text": [
      "[(-72.99722702277442, -36.84095697822952), (-73.01545173896083, -36.84095697822952), (-73.01545173896083, -36.82206241041678), (-72.99722702277442, -36.82206241041678), (-72.99722702277442, -36.84095697822952)]\n",
      "https://earthengine.googleapis.com/v1alpha/projects/earthengine-legacy/thumbnails/a087e0c708940e36a3d21b3aed361094-60850c9978f45c53a059b48c40d2671a:getPixels\n",
      "[(-73.01545173896083, -36.84095697822952), (-73.03367645514726, -36.84095697822952), (-73.03367645514726, -36.82206241041678), (-73.01545173896083, -36.82206241041678), (-73.01545173896083, -36.84095697822952)]\n",
      "https://earthengine.googleapis.com/v1alpha/projects/earthengine-legacy/thumbnails/9d42c4236c5ea6319e140d0bf0dee060-660c3776d733389748df08609eb45366:getPixels\n",
      "[(-73.03367645514726, -36.84095697822952), (-73.05190117133367, -36.84095697822952), (-73.05190117133367, -36.82206241041678), (-73.03367645514726, -36.82206241041678), (-73.03367645514726, -36.84095697822952)]\n",
      "https://earthengine.googleapis.com/v1alpha/projects/earthengine-legacy/thumbnails/55bb9eb0b91270f61c146d77e6cafe59-1843333d34eab725aff777fea50d93ba:getPixels\n",
      "[(-73.05190117133367, -36.82206241041678), (-73.05190117133367, -36.80316784260404), (-73.03367645514726, -36.80316784260404), (-73.03367645514726, -36.82206241041678), (-73.05190117133367, -36.82206241041678)]\n",
      "https://earthengine.googleapis.com/v1alpha/projects/earthengine-legacy/thumbnails/e3ae3c6e79576dee65cc5335bc717914-e6c8489f460812a80b2c8229c09848ef:getPixels\n",
      "[(-73.03367645514726, -36.80316784260404), (-73.01545173896083, -36.80316784260404), (-73.01545173896083, -36.82206241041678), (-73.03367645514726, -36.82206241041678), (-73.03367645514726, -36.80316784260404)]\n",
      "https://earthengine.googleapis.com/v1alpha/projects/earthengine-legacy/thumbnails/226095d4643f94d035e8830d5bc721aa-af73408314b998bb0b518b9d158041f2:getPixels\n",
      "[(-73.01545173896083, -36.80316784260404), (-72.99722702277442, -36.80316784260404), (-72.99722702277442, -36.82206241041678), (-73.01545173896083, -36.82206241041678), (-73.01545173896083, -36.80316784260404)]\n",
      "https://earthengine.googleapis.com/v1alpha/projects/earthengine-legacy/thumbnails/b107f97dca644a2785ac23985119f986-a010dd02977f3bafcb510407681b6abb:getPixels\n"
     ]
    }
   ],
   "source": [
    "grid = gpd.GeoDataFrame({'geometry':geoms})\n",
    "geoms\n",
    "\n",
    "for sq in geoms:\n",
    "  xx, yy = sq.exterior.coords.xy\n",
    "  x = xx.tolist()\n",
    "  y = yy.tolist()\n",
    "  print(list(zip(x,y)))\n",
    "  url = descargar_imagen_landsat8(list(zip(x,y)), \"2018-01-01\",\"2019-01-01\", \"True Color\")\n",
    "  print(url)\n",
    "\n",
    "\n"
   ]
  },
  {
   "cell_type": "code",
   "execution_count": 22,
   "metadata": {},
   "outputs": [
    {
     "data": {
      "image/png": "[encoded data removed]",
      "text/plain": [
       "<Figure size 640x480 with 1 Axes>"
      ]
     },
     "metadata": {},
     "output_type": "display_data"
    }
   ],
   "source": [
    "grid.plot();"
   ]
  },
  {
   "cell_type": "code",
   "execution_count": 49,
   "metadata": {},
   "outputs": [
    {
     "name": "stdout",
     "output_type": "stream",
     "text": [
      "([-73.15398858746755, -36.70643089922246], [-73.11974214276574, -36.70656852149412], [-73.12017129620828, -36.72363177314512], [-73.15707849225248, -36.72370056890712], [-73.15398858746755, -36.70643089922246])\n"
     ]
    }
   ],
   "source": [
    "coordenadas_lista = [[-73.15398858746755,-36.70643089922246],[-73.11974214276574,-36.70656852149412],[-73.12017129620828,-36.72363177314512],[-73.15707849225248,-36.72370056890712],[-73.15398858746755,-36.70643089922246]]\n",
    "\n",
    "coordenadas_tuplas = tuple(coordenadas_lista)\n",
    "\n",
    "print(coordenadas_tuplas)"
   ]
  }
 ],
 "metadata": {
  "kernelspec": {
   "display_name": "Python 3",
   "language": "python",
   "name": "python3"
  },
  "language_info": {
   "codemirror_mode": {
    "name": "ipython",
    "version": 3
   },
   "file_extension": ".py",
   "mimetype": "text/x-python",
   "name": "python",
   "nbconvert_exporter": "python",
   "pygments_lexer": "ipython3",
   "version": "3.9.17"
  },
  "orig_nbformat": 4
 },
 "nbformat": 4,
 "nbformat_minor": 2
}
