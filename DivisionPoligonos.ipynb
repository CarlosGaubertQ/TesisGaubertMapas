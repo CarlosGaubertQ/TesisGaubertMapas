{
 "cells": [
  {
   "cell_type": "code",
   "execution_count": 186,
   "metadata": {},
   "outputs": [],
   "source": [
    "import numpy as np  # Importa la biblioteca NumPy bajo el alias 'np' para realizar cálculos numéricos.\n",
    "from shapely.ops import split  # Importa la función 'split' desde Shapely para realizar operaciones de división en geometrías.\n",
    "import geopandas as gpd  # Importa la biblioteca GeoPandas bajo el alias 'gpd' para el análisis de datos geoespaciales.\n",
    "from shapely.geometry import MultiPolygon, Polygon, LineString  # Importa varios tipos de geometrías desde Shapely para representar formas geométricas en el espacio.\n",
    "import ee\n",
    "import geojson"
   ]
  },
  {
   "cell_type": "code",
   "execution_count": 187,
   "metadata": {},
   "outputs": [],
   "source": [
    "def descargar_imagen_landsat8(geometry, fecha_inicio, fecha_fin, tipoImagen):\n",
    "  band = ['B4', 'B3', 'B2']\n",
    "\n",
    "  # Inicializar la API de Google Earth Engine\n",
    "  ee.Initialize()\n",
    "\n",
    "  # Definir la geometría\n",
    "  geometry = ee.Geometry.Polygon(\n",
    "    [geometry], None, False);\n",
    "  \n",
    "  IMGLandsat8 = ee.ImageCollection('LANDSAT/LC08/C02/T1_RT_TOA') \\\n",
    "      .filterDate(fecha_inicio, fecha_fin) \\\n",
    "      .filterBounds(geometry) \\\n",
    "      .filterMetadata('CLOUD_COVER', 'less_than', 20)\n",
    "\n",
    "  # Obtener la imagen mediana\n",
    "  Landsat8Filtro = IMGLandsat8.median()\n",
    "\n",
    "  # Recortar la imagen con la geometría\n",
    "  Landsat8Clip = Landsat8Filtro.clip(geometry)\n",
    "\n",
    "\n",
    "\n",
    "  imagenRGB = Landsat8Clip.visualize(**{'min': 0,'max': 0.5, 'bands': band})\n",
    "  extension = 'jpg'\n",
    "\n",
    "  url = imagenRGB.getThumbURL({ 'region': geometry, 'dimensions': 500, 'format': extension })\n",
    "  \n",
    "\n",
    "  return url"
   ]
  },
  {
   "cell_type": "code",
   "execution_count": 188,
   "metadata": {},
   "outputs": [],
   "source": [
    "# Ruta del archivo de datos geoespaciales (Shapefile) que se va a leer.\n",
    "geo_filepath = \"shapefiles/nombre_shapefile.shp\""
   ]
  },
  {
   "cell_type": "code",
   "execution_count": 189,
   "metadata": {},
   "outputs": [],
   "source": [
    "# Lee el archivo Shapefile especificado en 'geo_filepath' y lo carga en un GeoDataFrame (GeoDF).\n",
    "GeoDF = gpd.read_file(geo_filepath)\n"
   ]
  },
  {
   "cell_type": "code",
   "execution_count": 190,
   "metadata": {},
   "outputs": [
    {
     "data": {
      "image/svg+xml": [
       "<svg xmlns=\"http://www.w3.org/2000/svg\" xmlns:xlink=\"http://www.w3.org/1999/xlink\" width=\"100.0\" height=\"100.0\" viewBox=\"-73.14237876326436 -36.79037101859071 0.1799281735854521 0.09698761926356525\" preserveAspectRatio=\"xMinYMin meet\"><g transform=\"matrix(1,0,0,-1,0,-73.48375441791785)\"><path fill-rule=\"evenodd\" fill=\"#66cc99\" stroke=\"#555555\" stroke-width=\"0.003598563471709042\" opacity=\"0.6\" d=\"M -73.13571475683527,-36.72154341749523 L -73.07900916123141,-36.70004740575624 L -72.969114596108,-36.72119107234591 L -72.96933438523794,-36.760291514908545 L -73.11703268076442,-36.78370701216162 L -73.13571475683527,-36.72154341749523 z\" /></g></svg>"
      ],
      "text/plain": [
       "<POLYGON ((-73.136 -36.722, -73.079 -36.7, -72.969 -36.721, -72.969 -36.76, ...>"
      ]
     },
     "execution_count": 190,
     "metadata": {},
     "output_type": "execute_result"
    }
   ],
   "source": [
    "# Selecciona una geometría aleatoria del GeoDataFrame 'GeoDF' y almacénala en la variable 'G'.\n",
    "\n",
    "G = np.random.choice(GeoDF.geometry.values)\n",
    "G"
   ]
  },
  {
   "cell_type": "code",
   "execution_count": 191,
   "metadata": {},
   "outputs": [
    {
     "data": {
      "image/svg+xml": [
       "<svg xmlns=\"http://www.w3.org/2000/svg\" xmlns:xlink=\"http://www.w3.org/1999/xlink\" width=\"100.0\" height=\"100.0\" viewBox=\"-73.14237876326436 -36.79037101859071 0.1799281735854521 0.09698761926356525\" preserveAspectRatio=\"xMinYMin meet\"><g transform=\"matrix(1,0,0,-1,0,-73.48375441791785)\"><path fill-rule=\"evenodd\" fill=\"#66cc99\" stroke=\"#555555\" stroke-width=\"0.003598563471709042\" opacity=\"0.6\" d=\"M -73.13571475683527,-36.78370701216162 L -72.969114596108,-36.78370701216162 L -72.969114596108,-36.70004740575624 L -73.13571475683527,-36.70004740575624 L -73.13571475683527,-36.78370701216162 z\" /></g></svg>"
      ],
      "text/plain": [
       "<POLYGON ((-73.136 -36.784, -72.969 -36.784, -72.969 -36.7, -73.136 -36.7, -...>"
      ]
     },
     "execution_count": 191,
     "metadata": {},
     "output_type": "execute_result"
    }
   ],
   "source": [
    "# Calcula la envolvente (rectángulo delimitador) de la geometría almacenada en 'G' y almacena el resultado en 'Rectangle'.\n",
    "Rectangle = G.envelope\n",
    "Rectangle"
   ]
  },
  {
   "cell_type": "code",
   "execution_count": 193,
   "metadata": {},
   "outputs": [
    {
     "data": {
      "text/plain": [
       "(0.16660016072727046, 0.08365960640538361)"
      ]
     },
     "execution_count": 193,
     "metadata": {},
     "output_type": "execute_result"
    }
   ],
   "source": [
    "# Longitud del lado de la celda\n",
    "side_length = 0.02\n",
    "\n",
    "# Obtiene las coordenadas de la envolvente del rectángulo y las almacena en 'rect_coords'\n",
    "rect_coords = np.array(Rectangle.boundary.coords.xy)\n",
    "\n",
    "# Extrae las listas de coordenadas x e y de 'rect_coords'\n",
    "y_list = rect_coords[1]\n",
    "x_list = rect_coords[0]\n",
    "\n",
    "# Calcula los valores mínimos y máximos de las coordenadas y para obtener la altura del rectángulo\n",
    "y1 = min(y_list)\n",
    "y2 = max(y_list)\n",
    "\n",
    "# Calcula los valores mínimos y máximos de las coordenadas x para obtener el ancho del rectángulo\n",
    "x1 = min(x_list)\n",
    "x2 = max(x_list)\n",
    "\n",
    "# Calcula el ancho y la altura del rectángulo\n",
    "width = x2 - x1\n",
    "height = y2 - y1\n",
    "\n",
    "# Calcula el número de celdas en la dirección x e y, redondeando al entero más cercano\n",
    "xcells = int(np.round(width / side_length))\n",
    "ycells = int(np.round(height / side_length))\n",
    "\n",
    "# Crea una serie de índices igualmente espaciados en las direcciones x e y\n",
    "yindices = np.linspace(y1, y2, ycells + 1)\n",
    "xindices = np.linspace(x1, x2, xcells + 1)\n",
    "width,height\n"
   ]
  },
  {
   "cell_type": "code",
   "execution_count": 194,
   "metadata": {},
   "outputs": [
    {
     "data": {
      "text/plain": [
       "[<LINESTRING (-73.136 -36.784, -73.136 -36.7)>,\n",
       " <LINESTRING (-73.115 -36.784, -73.115 -36.7)>,\n",
       " <LINESTRING (-73.094 -36.784, -73.094 -36.7)>,\n",
       " <LINESTRING (-73.073 -36.784, -73.073 -36.7)>,\n",
       " <LINESTRING (-73.052 -36.784, -73.052 -36.7)>,\n",
       " <LINESTRING (-73.032 -36.784, -73.032 -36.7)>,\n",
       " <LINESTRING (-73.011 -36.784, -73.011 -36.7)>,\n",
       " <LINESTRING (-72.99 -36.784, -72.99 -36.7)>,\n",
       " <LINESTRING (-72.969 -36.784, -72.969 -36.7)>]"
      ]
     },
     "execution_count": 194,
     "metadata": {},
     "output_type": "execute_result"
    }
   ],
   "source": [
    "# Crea una lista de líneas horizontales que atraviesan el rectángulo delimitador en direcciones verticales.\n",
    "horizontal_splitters = [\n",
    "    LineString([(x, yindices[0]), (x, yindices[-1])]) for x in xindices\n",
    "]\n",
    "\n",
    "# Imprime la lista de líneas horizontales.\n",
    "horizontal_splitters"
   ]
  },
  {
   "cell_type": "code",
   "execution_count": 195,
   "metadata": {},
   "outputs": [
    {
     "data": {
      "text/plain": [
       "[<LINESTRING (-73.136 -36.784, -72.969 -36.784)>,\n",
       " <LINESTRING (-73.136 -36.763, -72.969 -36.763)>,\n",
       " <LINESTRING (-73.136 -36.742, -72.969 -36.742)>,\n",
       " <LINESTRING (-73.136 -36.721, -72.969 -36.721)>,\n",
       " <LINESTRING (-73.136 -36.7, -72.969 -36.7)>]"
      ]
     },
     "execution_count": 195,
     "metadata": {},
     "output_type": "execute_result"
    }
   ],
   "source": [
    "# Crea una lista de líneas verticales que atraviesan el rectángulo delimitador en direcciones horizontales.\n",
    "vertical_splitters = [\n",
    "    LineString([(xindices[0], y), (xindices[-1], y)]) for y in yindices\n",
    "]\n",
    "\n",
    "# Imprime la lista de líneas verticales.\n",
    "vertical_splitters"
   ]
  },
  {
   "cell_type": "code",
   "execution_count": 196,
   "metadata": {},
   "outputs": [
    {
     "data": {
      "image/svg+xml": [
       "<svg xmlns=\"http://www.w3.org/2000/svg\" xmlns:xlink=\"http://www.w3.org/1999/xlink\" width=\"100.0\" height=\"100.0\" viewBox=\"-73.14237876326436 -36.79037101859071 0.1799281735854521 0.09698761926356525\" preserveAspectRatio=\"xMinYMin meet\"><g transform=\"matrix(1,0,0,-1,0,-73.48375441791785)\"><path fill-rule=\"evenodd\" fill=\"#66cc99\" stroke=\"#555555\" stroke-width=\"0.003598563471709042\" opacity=\"0.6\" d=\"M -73.13571475683527,-36.78370701216162 L -72.969114596108,-36.78370701216162 L -72.969114596108,-36.70004740575624 L -73.13571475683527,-36.70004740575624 L -73.13571475683527,-36.78370701216162 z\" /></g></svg>"
      ],
      "text/plain": [
       "<POLYGON ((-73.136 -36.784, -72.969 -36.784, -72.969 -36.7, -73.136 -36.7, -...>"
      ]
     },
     "execution_count": 196,
     "metadata": {},
     "output_type": "execute_result"
    }
   ],
   "source": [
    "# Asigna la geometría del rectángulo delimitador original a la variable 'result'.\n",
    "result = Rectangle\n",
    "\n",
    "# Imprime 'result', que ahora contiene la misma geometría que 'Rectangle'.\n",
    "result"
   ]
  },
  {
   "cell_type": "code",
   "execution_count": 197,
   "metadata": {},
   "outputs": [
    {
     "data": {
      "image/svg+xml": [
       "<svg xmlns=\"http://www.w3.org/2000/svg\" xmlns:xlink=\"http://www.w3.org/1999/xlink\" width=\"100.0\" height=\"100.0\" viewBox=\"-73.14237876326436 -36.79037101859071 0.1799281735854521 0.09698761926356525\" preserveAspectRatio=\"xMinYMin meet\"><g transform=\"matrix(1,0,0,-1,0,-73.48375441791785)\"><g><path fill-rule=\"evenodd\" fill=\"#ff3333\" stroke=\"#555555\" stroke-width=\"0.003598563471709042\" opacity=\"0.6\" d=\"M -72.969114596108,-36.78370701216162 L -73.13571475683527,-36.78370701216162 L -73.13571475683527,-36.76279211056028 L -72.969114596108,-36.76279211056028 L -72.969114596108,-36.78370701216162 z\" /><path fill-rule=\"evenodd\" fill=\"#ff3333\" stroke=\"#555555\" stroke-width=\"0.003598563471709042\" opacity=\"0.6\" d=\"M -73.13571475683527,-36.76279211056028 L -73.13571475683527,-36.741877208958925 L -72.969114596108,-36.741877208958925 L -72.969114596108,-36.76279211056028 L -73.13571475683527,-36.76279211056028 z\" /><path fill-rule=\"evenodd\" fill=\"#ff3333\" stroke=\"#555555\" stroke-width=\"0.003598563471709042\" opacity=\"0.6\" d=\"M -73.13571475683527,-36.741877208958925 L -73.13571475683527,-36.72096230735758 L -72.969114596108,-36.72096230735758 L -72.969114596108,-36.741877208958925 L -73.13571475683527,-36.741877208958925 z\" /><path fill-rule=\"evenodd\" fill=\"#ff3333\" stroke=\"#555555\" stroke-width=\"0.003598563471709042\" opacity=\"0.6\" d=\"M -73.13571475683527,-36.72096230735758 L -73.13571475683527,-36.70004740575624 L -72.969114596108,-36.70004740575624 L -72.969114596108,-36.72096230735758 L -73.13571475683527,-36.72096230735758 z\" /></g></g></svg>"
      ],
      "text/plain": [
       "<MULTIPOLYGON (((-72.969 -36.784, -73.136 -36.784, -73.136 -36.763, -72.969 ...>"
      ]
     },
     "execution_count": 197,
     "metadata": {},
     "output_type": "execute_result"
    }
   ],
   "source": [
    "# Itera sobre la lista de líneas verticales 'vertical_splitters' y divide la geometría 'result' en múltiples polígonos.\n",
    "for splitter in vertical_splitters:\n",
    "    result = MultiPolygon(split(result, splitter))\n",
    "\n",
    "# Imprime 'result', que ahora contiene los polígonos resultantes después de la división.\n",
    "result"
   ]
  },
  {
   "cell_type": "code",
   "execution_count": 198,
   "metadata": {},
   "outputs": [
    {
     "data": {
      "image/svg+xml": [
       "<svg xmlns=\"http://www.w3.org/2000/svg\" xmlns:xlink=\"http://www.w3.org/1999/xlink\" width=\"100.0\" height=\"100.0\" viewBox=\"-73.14237876326436 -36.79037101859071 0.1799281735854521 0.09698761926356525\" preserveAspectRatio=\"xMinYMin meet\"><g transform=\"matrix(1,0,0,-1,0,-73.48375441791785)\"><g><path fill-rule=\"evenodd\" fill=\"#ff3333\" stroke=\"#555555\" stroke-width=\"0.003598563471709042\" opacity=\"0.6\" d=\"M -72.969114596108,-36.78370701216162 L -72.98993961619891,-36.78370701216162 L -72.98993961619891,-36.76279211056028 L -72.969114596108,-36.76279211056028 L -72.969114596108,-36.78370701216162 z\" /><path fill-rule=\"evenodd\" fill=\"#ff3333\" stroke=\"#555555\" stroke-width=\"0.003598563471709042\" opacity=\"0.6\" d=\"M -72.98993961619891,-36.78370701216162 L -73.01076463628982,-36.78370701216162 L -73.01076463628982,-36.76279211056028 L -72.98993961619891,-36.76279211056028 L -72.98993961619891,-36.78370701216162 z\" /><path fill-rule=\"evenodd\" fill=\"#ff3333\" stroke=\"#555555\" stroke-width=\"0.003598563471709042\" opacity=\"0.6\" d=\"M -73.01076463628982,-36.78370701216162 L -73.03158965638073,-36.78370701216162 L -73.03158965638073,-36.76279211056028 L -73.01076463628982,-36.76279211056028 L -73.01076463628982,-36.78370701216162 z\" /><path fill-rule=\"evenodd\" fill=\"#ff3333\" stroke=\"#555555\" stroke-width=\"0.003598563471709042\" opacity=\"0.6\" d=\"M -73.03158965638073,-36.78370701216162 L -73.05241467647164,-36.78370701216162 L -73.05241467647164,-36.76279211056028 L -73.03158965638073,-36.76279211056028 L -73.03158965638073,-36.78370701216162 z\" /><path fill-rule=\"evenodd\" fill=\"#ff3333\" stroke=\"#555555\" stroke-width=\"0.003598563471709042\" opacity=\"0.6\" d=\"M -73.05241467647164,-36.78370701216162 L -73.07323969656254,-36.78370701216162 L -73.07323969656254,-36.76279211056028 L -73.05241467647164,-36.76279211056028 L -73.05241467647164,-36.78370701216162 z\" /><path fill-rule=\"evenodd\" fill=\"#ff3333\" stroke=\"#555555\" stroke-width=\"0.003598563471709042\" opacity=\"0.6\" d=\"M -73.07323969656254,-36.78370701216162 L -73.09406471665345,-36.78370701216162 L -73.09406471665345,-36.76279211056028 L -73.07323969656254,-36.76279211056028 L -73.07323969656254,-36.78370701216162 z\" /><path fill-rule=\"evenodd\" fill=\"#ff3333\" stroke=\"#555555\" stroke-width=\"0.003598563471709042\" opacity=\"0.6\" d=\"M -73.09406471665345,-36.78370701216162 L -73.11488973674436,-36.78370701216162 L -73.11488973674436,-36.76279211056028 L -73.09406471665345,-36.76279211056028 L -73.09406471665345,-36.78370701216162 z\" /><path fill-rule=\"evenodd\" fill=\"#ff3333\" stroke=\"#555555\" stroke-width=\"0.003598563471709042\" opacity=\"0.6\" d=\"M -73.11488973674436,-36.78370701216162 L -73.13571475683527,-36.78370701216162 L -73.13571475683527,-36.76279211056028 L -73.11488973674436,-36.76279211056028 L -73.11488973674436,-36.78370701216162 z\" /><path fill-rule=\"evenodd\" fill=\"#ff3333\" stroke=\"#555555\" stroke-width=\"0.003598563471709042\" opacity=\"0.6\" d=\"M -73.13571475683527,-36.76279211056028 L -73.13571475683527,-36.741877208958925 L -73.11488973674436,-36.741877208958925 L -73.11488973674436,-36.76279211056028 L -73.13571475683527,-36.76279211056028 z\" /><path fill-rule=\"evenodd\" fill=\"#ff3333\" stroke=\"#555555\" stroke-width=\"0.003598563471709042\" opacity=\"0.6\" d=\"M -73.11488973674436,-36.741877208958925 L -73.09406471665345,-36.741877208958925 L -73.09406471665345,-36.76279211056028 L -73.11488973674436,-36.76279211056028 L -73.11488973674436,-36.741877208958925 z\" /><path fill-rule=\"evenodd\" fill=\"#ff3333\" stroke=\"#555555\" stroke-width=\"0.003598563471709042\" opacity=\"0.6\" d=\"M -73.09406471665345,-36.741877208958925 L -73.07323969656254,-36.741877208958925 L -73.07323969656254,-36.76279211056028 L -73.09406471665345,-36.76279211056028 L -73.09406471665345,-36.741877208958925 z\" /><path fill-rule=\"evenodd\" fill=\"#ff3333\" stroke=\"#555555\" stroke-width=\"0.003598563471709042\" opacity=\"0.6\" d=\"M -73.07323969656254,-36.741877208958925 L -73.05241467647164,-36.741877208958925 L -73.05241467647164,-36.76279211056028 L -73.07323969656254,-36.76279211056028 L -73.07323969656254,-36.741877208958925 z\" /><path fill-rule=\"evenodd\" fill=\"#ff3333\" stroke=\"#555555\" stroke-width=\"0.003598563471709042\" opacity=\"0.6\" d=\"M -73.05241467647164,-36.741877208958925 L -73.03158965638073,-36.741877208958925 L -73.03158965638073,-36.76279211056028 L -73.05241467647164,-36.76279211056028 L -73.05241467647164,-36.741877208958925 z\" /><path fill-rule=\"evenodd\" fill=\"#ff3333\" stroke=\"#555555\" stroke-width=\"0.003598563471709042\" opacity=\"0.6\" d=\"M -73.03158965638073,-36.741877208958925 L -73.01076463628982,-36.741877208958925 L -73.01076463628982,-36.76279211056028 L -73.03158965638073,-36.76279211056028 L -73.03158965638073,-36.741877208958925 z\" /><path fill-rule=\"evenodd\" fill=\"#ff3333\" stroke=\"#555555\" stroke-width=\"0.003598563471709042\" opacity=\"0.6\" d=\"M -73.01076463628982,-36.741877208958925 L -72.98993961619891,-36.741877208958925 L -72.98993961619891,-36.76279211056028 L -73.01076463628982,-36.76279211056028 L -73.01076463628982,-36.741877208958925 z\" /><path fill-rule=\"evenodd\" fill=\"#ff3333\" stroke=\"#555555\" stroke-width=\"0.003598563471709042\" opacity=\"0.6\" d=\"M -72.98993961619891,-36.741877208958925 L -72.969114596108,-36.741877208958925 L -72.969114596108,-36.76279211056028 L -72.98993961619891,-36.76279211056028 L -72.98993961619891,-36.741877208958925 z\" /><path fill-rule=\"evenodd\" fill=\"#ff3333\" stroke=\"#555555\" stroke-width=\"0.003598563471709042\" opacity=\"0.6\" d=\"M -73.13571475683527,-36.741877208958925 L -73.13571475683527,-36.72096230735758 L -73.11488973674436,-36.72096230735758 L -73.11488973674436,-36.741877208958925 L -73.13571475683527,-36.741877208958925 z\" /><path fill-rule=\"evenodd\" fill=\"#ff3333\" stroke=\"#555555\" stroke-width=\"0.003598563471709042\" opacity=\"0.6\" d=\"M -73.11488973674436,-36.72096230735758 L -73.09406471665345,-36.72096230735758 L -73.09406471665345,-36.741877208958925 L -73.11488973674436,-36.741877208958925 L -73.11488973674436,-36.72096230735758 z\" /><path fill-rule=\"evenodd\" fill=\"#ff3333\" stroke=\"#555555\" stroke-width=\"0.003598563471709042\" opacity=\"0.6\" d=\"M -73.09406471665345,-36.72096230735758 L -73.07323969656254,-36.72096230735758 L -73.07323969656254,-36.741877208958925 L -73.09406471665345,-36.741877208958925 L -73.09406471665345,-36.72096230735758 z\" /><path fill-rule=\"evenodd\" fill=\"#ff3333\" stroke=\"#555555\" stroke-width=\"0.003598563471709042\" opacity=\"0.6\" d=\"M -73.07323969656254,-36.72096230735758 L -73.05241467647164,-36.72096230735758 L -73.05241467647164,-36.741877208958925 L -73.07323969656254,-36.741877208958925 L -73.07323969656254,-36.72096230735758 z\" /><path fill-rule=\"evenodd\" fill=\"#ff3333\" stroke=\"#555555\" stroke-width=\"0.003598563471709042\" opacity=\"0.6\" d=\"M -73.05241467647164,-36.72096230735758 L -73.03158965638073,-36.72096230735758 L -73.03158965638073,-36.741877208958925 L -73.05241467647164,-36.741877208958925 L -73.05241467647164,-36.72096230735758 z\" /><path fill-rule=\"evenodd\" fill=\"#ff3333\" stroke=\"#555555\" stroke-width=\"0.003598563471709042\" opacity=\"0.6\" d=\"M -73.03158965638073,-36.72096230735758 L -73.01076463628982,-36.72096230735758 L -73.01076463628982,-36.741877208958925 L -73.03158965638073,-36.741877208958925 L -73.03158965638073,-36.72096230735758 z\" /><path fill-rule=\"evenodd\" fill=\"#ff3333\" stroke=\"#555555\" stroke-width=\"0.003598563471709042\" opacity=\"0.6\" d=\"M -73.01076463628982,-36.72096230735758 L -72.98993961619891,-36.72096230735758 L -72.98993961619891,-36.741877208958925 L -73.01076463628982,-36.741877208958925 L -73.01076463628982,-36.72096230735758 z\" /><path fill-rule=\"evenodd\" fill=\"#ff3333\" stroke=\"#555555\" stroke-width=\"0.003598563471709042\" opacity=\"0.6\" d=\"M -72.98993961619891,-36.72096230735758 L -72.969114596108,-36.72096230735758 L -72.969114596108,-36.741877208958925 L -72.98993961619891,-36.741877208958925 L -72.98993961619891,-36.72096230735758 z\" /><path fill-rule=\"evenodd\" fill=\"#ff3333\" stroke=\"#555555\" stroke-width=\"0.003598563471709042\" opacity=\"0.6\" d=\"M -73.13571475683527,-36.72096230735758 L -73.13571475683527,-36.70004740575624 L -73.11488973674436,-36.70004740575624 L -73.11488973674436,-36.72096230735758 L -73.13571475683527,-36.72096230735758 z\" /><path fill-rule=\"evenodd\" fill=\"#ff3333\" stroke=\"#555555\" stroke-width=\"0.003598563471709042\" opacity=\"0.6\" d=\"M -73.11488973674436,-36.70004740575624 L -73.09406471665345,-36.70004740575624 L -73.09406471665345,-36.72096230735758 L -73.11488973674436,-36.72096230735758 L -73.11488973674436,-36.70004740575624 z\" /><path fill-rule=\"evenodd\" fill=\"#ff3333\" stroke=\"#555555\" stroke-width=\"0.003598563471709042\" opacity=\"0.6\" d=\"M -73.09406471665345,-36.70004740575624 L -73.07323969656254,-36.70004740575624 L -73.07323969656254,-36.72096230735758 L -73.09406471665345,-36.72096230735758 L -73.09406471665345,-36.70004740575624 z\" /><path fill-rule=\"evenodd\" fill=\"#ff3333\" stroke=\"#555555\" stroke-width=\"0.003598563471709042\" opacity=\"0.6\" d=\"M -73.07323969656254,-36.70004740575624 L -73.05241467647164,-36.70004740575624 L -73.05241467647164,-36.72096230735758 L -73.07323969656254,-36.72096230735758 L -73.07323969656254,-36.70004740575624 z\" /><path fill-rule=\"evenodd\" fill=\"#ff3333\" stroke=\"#555555\" stroke-width=\"0.003598563471709042\" opacity=\"0.6\" d=\"M -73.05241467647164,-36.70004740575624 L -73.03158965638073,-36.70004740575624 L -73.03158965638073,-36.72096230735758 L -73.05241467647164,-36.72096230735758 L -73.05241467647164,-36.70004740575624 z\" /><path fill-rule=\"evenodd\" fill=\"#ff3333\" stroke=\"#555555\" stroke-width=\"0.003598563471709042\" opacity=\"0.6\" d=\"M -73.03158965638073,-36.70004740575624 L -73.01076463628982,-36.70004740575624 L -73.01076463628982,-36.72096230735758 L -73.03158965638073,-36.72096230735758 L -73.03158965638073,-36.70004740575624 z\" /><path fill-rule=\"evenodd\" fill=\"#ff3333\" stroke=\"#555555\" stroke-width=\"0.003598563471709042\" opacity=\"0.6\" d=\"M -73.01076463628982,-36.70004740575624 L -72.98993961619891,-36.70004740575624 L -72.98993961619891,-36.72096230735758 L -73.01076463628982,-36.72096230735758 L -73.01076463628982,-36.70004740575624 z\" /><path fill-rule=\"evenodd\" fill=\"#ff3333\" stroke=\"#555555\" stroke-width=\"0.003598563471709042\" opacity=\"0.6\" d=\"M -72.98993961619891,-36.70004740575624 L -72.969114596108,-36.70004740575624 L -72.969114596108,-36.72096230735758 L -72.98993961619891,-36.72096230735758 L -72.98993961619891,-36.70004740575624 z\" /></g></g></svg>"
      ],
      "text/plain": [
       "<MULTIPOLYGON (((-72.969 -36.784, -72.99 -36.784, -72.99 -36.763, -72.969 -3...>"
      ]
     },
     "execution_count": 198,
     "metadata": {},
     "output_type": "execute_result"
    }
   ],
   "source": [
    "# Itera sobre la lista de líneas horizontales 'horizontal_splitters' y divide la geometría 'result' en múltiples polígonos.\n",
    "for splitter in horizontal_splitters:\n",
    "    result = MultiPolygon(split(result, splitter))\n",
    "\n",
    "# Imprime 'result', que ahora contiene los polígonos resultantes después de la división horizontal y vertical.\n",
    "result\n"
   ]
  },
  {
   "cell_type": "code",
   "execution_count": 199,
   "metadata": {},
   "outputs": [
    {
     "data": {
      "text/plain": [
       "32"
      ]
     },
     "execution_count": 199,
     "metadata": {},
     "output_type": "execute_result"
    }
   ],
   "source": [
    "# Extrae los polígonos individuales del resultado final 'result' y los almacena en la lista 'square_polygons'.\n",
    "square_polygons = list(result.geoms)\n",
    "len(square_polygons)\n"
   ]
  },
  {
   "cell_type": "code",
   "execution_count": 175,
   "metadata": {},
   "outputs": [],
   "source": [
    "# Crea un GeoDataFrame a partir de la lista de polígonos 'square_polygons'.\n",
    "df = gpd.GeoDataFrame(square_polygons)\n"
   ]
  },
  {
   "cell_type": "code",
   "execution_count": 176,
   "metadata": {},
   "outputs": [],
   "source": [
    "# Crea un nuevo GeoDataFrame a partir de la lista de polígonos 'square_polygons'.\n",
    "SquareGeoDF  = gpd.GeoDataFrame(square_polygons).rename(columns={0: \"geometry\"})"
   ]
  },
  {
   "cell_type": "code",
   "execution_count": 200,
   "metadata": {},
   "outputs": [],
   "source": [
    "# Crea un nuevo GeoDataFrame a partir de la lista de polígonos 'square_polygons'.\n",
    "SquareGeoDF = gpd.GeoDataFrame(square_polygons)\n",
    "\n",
    "# Establece la geometría del GeoDataFrame en la primera columna (índice 0) de los datos.\n",
    "SquareGeoDF = SquareGeoDF.set_geometry(0)\n"
   ]
  },
  {
   "cell_type": "code",
   "execution_count": 201,
   "metadata": {},
   "outputs": [],
   "source": [
    "# Extrae las geometrías de 'SquareGeoDF' que se intersectan con la geometría 'G' y las almacena en 'Geoms'.\n",
    "Geoms = SquareGeoDF[SquareGeoDF.intersects(G)].geometry.values\n",
    "\n",
    "# Define una variable 'shape' con el valor \"square\".\n",
    "shape = \"square\"\n",
    "\n",
    "# Define una variable 'thresh' con el valor 0.9.\n",
    "thresh = 0.2"
   ]
  },
  {
   "cell_type": "code",
   "execution_count": 203,
   "metadata": {},
   "outputs": [
    {
     "data": {
      "text/plain": [
       "28"
      ]
     },
     "execution_count": 203,
     "metadata": {},
     "output_type": "execute_result"
    }
   ],
   "source": [
    "# Si la variable 'shape' es igual a \"rhombus\", realiza las siguientes operaciones.\n",
    "if shape == \"rhombus\":\n",
    "    # Aplica una función 'rhombus(g)' a cada geometría en 'Geoms' y almacena los resultados en 'Geoms'.\n",
    "    #Geoms = [rhombus(g) for g in Geoms]\n",
    "    # Filtra las geometrías en 'Geoms' que cumplen con una condición de área y las almacena en 'geoms'.\n",
    "    geoms = [g for g in Geoms if ((g.intersection(G)).area / g.area) >= thresh]\n",
    "\n",
    "# Si la variable 'shape' es igual a \"square\", realiza las siguientes operaciones.\n",
    "elif shape == \"square\":\n",
    "   \n",
    "    # Filtra las geometrías en 'Geoms' que cumplen con una condición de área y las almacena en 'geoms'.\n",
    "    geoms = [g for g in Geoms if ((g.intersection(G)).area / g.area) >= thresh]\n",
    "\n",
    "geoms\n",
    "len(geoms)"
   ]
  },
  {
   "cell_type": "code",
   "execution_count": 204,
   "metadata": {},
   "outputs": [
    {
     "data": {
      "image/svg+xml": [
       "<svg xmlns=\"http://www.w3.org/2000/svg\" xmlns:xlink=\"http://www.w3.org/1999/xlink\" width=\"100.0\" height=\"100.0\" viewBox=\"-73.14237876326436 -36.79037101859071 0.1799281735854521 0.09698761926356525\" preserveAspectRatio=\"xMinYMin meet\"><g transform=\"matrix(1,0,0,-1,0,-73.48375441791785)\"><path fill-rule=\"evenodd\" fill=\"#66cc99\" stroke=\"#555555\" stroke-width=\"0.003598563471709042\" opacity=\"0.6\" d=\"M -73.13571475683527,-36.78370701216162 L -72.969114596108,-36.78370701216162 L -72.969114596108,-36.70004740575624 L -73.13571475683527,-36.70004740575624 L -73.13571475683527,-36.78370701216162 z\" /></g></svg>"
      ],
      "text/plain": [
       "<POLYGON ((-73.136 -36.784, -72.969 -36.784, -72.969 -36.7, -73.136 -36.7, -...>"
      ]
     },
     "execution_count": 204,
     "metadata": {},
     "output_type": "execute_result"
    }
   ],
   "source": [
    "Rectangle"
   ]
  },
  {
   "cell_type": "code",
   "execution_count": 205,
   "metadata": {},
   "outputs": [
    {
     "data": {
      "image/svg+xml": [
       "<svg xmlns=\"http://www.w3.org/2000/svg\" xmlns:xlink=\"http://www.w3.org/1999/xlink\" width=\"100.0\" height=\"100.0\" viewBox=\"-73.14237876326436 -36.79037101859071 0.1799281735854521 0.09698761926356525\" preserveAspectRatio=\"xMinYMin meet\"><g transform=\"matrix(1,0,0,-1,0,-73.48375441791785)\"><path fill-rule=\"evenodd\" fill=\"#66cc99\" stroke=\"#555555\" stroke-width=\"0.003598563471709042\" opacity=\"0.6\" d=\"M -73.13571475683527,-36.72154341749523 L -73.07900916123141,-36.70004740575624 L -72.969114596108,-36.72119107234591 L -72.96933438523794,-36.760291514908545 L -73.11703268076442,-36.78370701216162 L -73.13571475683527,-36.72154341749523 z\" /></g></svg>"
      ],
      "text/plain": [
       "<POLYGON ((-73.136 -36.722, -73.079 -36.7, -72.969 -36.721, -72.969 -36.76, ...>"
      ]
     },
     "execution_count": 205,
     "metadata": {},
     "output_type": "execute_result"
    }
   ],
   "source": [
    "G"
   ]
  },
  {
   "cell_type": "code",
   "execution_count": 206,
   "metadata": {},
   "outputs": [
    {
     "data": {
      "text/plain": [
       "'\\nfor sq in geoms:\\n  xx, yy = sq.exterior.coords.xy\\n  x = xx.tolist()\\n  y = yy.tolist()\\n  print(list(zip(x,y)))\\n  url = descargar_imagen_landsat8(list(zip(x,y)), \"2018-01-01\",\"2019-01-01\", \"True Color\")\\n  print(url)\\n\\n'"
      ]
     },
     "execution_count": 206,
     "metadata": {},
     "output_type": "execute_result"
    }
   ],
   "source": [
    "grid = gpd.GeoDataFrame({'geometry':geoms})\n",
    "geoms\n",
    "\"\"\"\n",
    "for sq in geoms:\n",
    "  xx, yy = sq.exterior.coords.xy\n",
    "  x = xx.tolist()\n",
    "  y = yy.tolist()\n",
    "  print(list(zip(x,y)))\n",
    "  url = descargar_imagen_landsat8(list(zip(x,y)), \"2018-01-01\",\"2019-01-01\", \"True Color\")\n",
    "  print(url)\n",
    "\n",
    "\"\"\"\n"
   ]
  },
  {
   "cell_type": "code",
   "execution_count": 207,
   "metadata": {},
   "outputs": [
    {
     "data": {
      "image/png": "[encoded data removed]",
      "text/plain": [
       "<Figure size 640x480 with 1 Axes>"
      ]
     },
     "metadata": {},
     "output_type": "display_data"
    }
   ],
   "source": [
    "grid.plot();"
   ]
  },
  {
   "cell_type": "code",
   "execution_count": 49,
   "metadata": {},
   "outputs": [
    {
     "name": "stdout",
     "output_type": "stream",
     "text": [
      "([-73.15398858746755, -36.70643089922246], [-73.11974214276574, -36.70656852149412], [-73.12017129620828, -36.72363177314512], [-73.15707849225248, -36.72370056890712], [-73.15398858746755, -36.70643089922246])\n"
     ]
    }
   ],
   "source": [
    "coordenadas_lista = [[-73.15398858746755,-36.70643089922246],[-73.11974214276574,-36.70656852149412],[-73.12017129620828,-36.72363177314512],[-73.15707849225248,-36.72370056890712],[-73.15398858746755,-36.70643089922246]]\n",
    "\n",
    "coordenadas_tuplas = tuple(coordenadas_lista)\n",
    "\n",
    "print(coordenadas_tuplas)"
   ]
  }
 ],
 "metadata": {
  "kernelspec": {
   "display_name": "Python 3",
   "language": "python",
   "name": "python3"
  },
  "language_info": {
   "codemirror_mode": {
    "name": "ipython",
    "version": 3
   },
   "file_extension": ".py",
   "mimetype": "text/x-python",
   "name": "python",
   "nbconvert_exporter": "python",
   "pygments_lexer": "ipython3",
   "version": "3.9.17"
  },
  "orig_nbformat": 4
 },
 "nbformat": 4,
 "nbformat_minor": 2
}
