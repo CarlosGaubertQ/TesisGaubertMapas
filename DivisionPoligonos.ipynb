{
 "cells": [
  {
   "cell_type": "code",
   "execution_count": 2,
   "metadata": {},
   "outputs": [],
   "source": [
    "import numpy as np  # Importa la biblioteca NumPy bajo el alias 'np' para realizar cálculos numéricos.\n",
    "from shapely.ops import split  # Importa la función 'split' desde Shapely para realizar operaciones de división en geometrías.\n",
    "import geopandas as gpd  # Importa la biblioteca GeoPandas bajo el alias 'gpd' para el análisis de datos geoespaciales.\n",
    "from shapely.geometry import MultiPolygon, Polygon, LineString  # Importa varios tipos de geometrías desde Shapely para representar formas geométricas en el espacio.\n"
   ]
  },
  {
   "cell_type": "code",
   "execution_count": 3,
   "metadata": {},
   "outputs": [],
   "source": [
    "# Ruta del archivo de datos geoespaciales (Shapefile) que se va a leer.\n",
    "geo_filepath = \"shapefiles/nombre_shapefile.shp\""
   ]
  },
  {
   "cell_type": "code",
   "execution_count": 4,
   "metadata": {},
   "outputs": [],
   "source": [
    "# Lee el archivo Shapefile especificado en 'geo_filepath' y lo carga en un GeoDataFrame (GeoDF).\n",
    "GeoDF = gpd.read_file(geo_filepath)\n"
   ]
  },
  {
   "cell_type": "code",
   "execution_count": 5,
   "metadata": {},
   "outputs": [
    {
     "data": {
      "image/svg+xml": [
       "<svg xmlns=\"http://www.w3.org/2000/svg\" xmlns:xlink=\"http://www.w3.org/1999/xlink\" width=\"100.0\" height=\"100.0\" viewBox=\"-73.12156779203043 -36.80833944136688 0.035408490345474775 0.02871828522466302\" preserveAspectRatio=\"xMinYMin meet\"><g transform=\"matrix(1,0,0,-1,0,-73.5879605975091)\"><path fill-rule=\"evenodd\" fill=\"#66cc99\" stroke=\"#555555\" stroke-width=\"0.0007081698069094955\" opacity=\"0.6\" d=\"M -73.11886546055653,-36.78109172714593 L -73.0989953761875,-36.78093258171057 L -73.0874707272533,-36.80082319990782 L -73.10018758124967,-36.80702801579853 L -73.12025636646209,-36.79907303273324 L -73.11886546055653,-36.78109172714593 z\" /></g></svg>"
      ],
      "text/plain": [
       "<POLYGON ((-73.119 -36.781, -73.099 -36.781, -73.087 -36.801, -73.1 -36.807,...>"
      ]
     },
     "execution_count": 5,
     "metadata": {},
     "output_type": "execute_result"
    }
   ],
   "source": [
    "# Selecciona una geometría aleatoria del GeoDataFrame 'GeoDF' y almacénala en la variable 'G'.\n",
    "\n",
    "G = np.random.choice(GeoDF.geometry.values)\n",
    "G"
   ]
  },
  {
   "cell_type": "code",
   "execution_count": 6,
   "metadata": {},
   "outputs": [
    {
     "data": {
      "image/svg+xml": [
       "<svg xmlns=\"http://www.w3.org/2000/svg\" xmlns:xlink=\"http://www.w3.org/1999/xlink\" width=\"100.0\" height=\"100.0\" viewBox=\"-73.12156779203043 -36.80833944136688 0.035408490345474775 0.02871828522466302\" preserveAspectRatio=\"xMinYMin meet\"><g transform=\"matrix(1,0,0,-1,0,-73.5879605975091)\"><path fill-rule=\"evenodd\" fill=\"#66cc99\" stroke=\"#555555\" stroke-width=\"0.0007081698069094955\" opacity=\"0.6\" d=\"M -73.12025636646209,-36.80702801579853 L -73.0874707272533,-36.80702801579853 L -73.0874707272533,-36.78093258171057 L -73.12025636646209,-36.78093258171057 L -73.12025636646209,-36.80702801579853 z\" /></g></svg>"
      ],
      "text/plain": [
       "<POLYGON ((-73.12 -36.807, -73.087 -36.807, -73.087 -36.781, -73.12 -36.781,...>"
      ]
     },
     "execution_count": 6,
     "metadata": {},
     "output_type": "execute_result"
    }
   ],
   "source": [
    "# Calcula la envolvente (rectángulo delimitador) de la geometría almacenada en 'G' y almacena el resultado en 'Rectangle'.\n",
    "Rectangle = G.envelope\n",
    "Rectangle"
   ]
  },
  {
   "cell_type": "code",
   "execution_count": 10,
   "metadata": {},
   "outputs": [
    {
     "data": {
      "text/plain": [
       "(0.03278563920878241, 0.02609543408795645)"
      ]
     },
     "execution_count": 10,
     "metadata": {},
     "output_type": "execute_result"
    }
   ],
   "source": [
    "# Longitud del lado de la celda\n",
    "side_length = 0.01\n",
    "\n",
    "# Obtiene las coordenadas de la envolvente del rectángulo y las almacena en 'rect_coords'\n",
    "rect_coords = np.array(Rectangle.boundary.coords.xy)\n",
    "\n",
    "# Extrae las listas de coordenadas x e y de 'rect_coords'\n",
    "y_list = rect_coords[1]\n",
    "x_list = rect_coords[0]\n",
    "\n",
    "# Calcula los valores mínimos y máximos de las coordenadas y para obtener la altura del rectángulo\n",
    "y1 = min(y_list)\n",
    "y2 = max(y_list)\n",
    "\n",
    "# Calcula los valores mínimos y máximos de las coordenadas x para obtener el ancho del rectángulo\n",
    "x1 = min(x_list)\n",
    "x2 = max(x_list)\n",
    "\n",
    "# Calcula el ancho y la altura del rectángulo\n",
    "width = x2 - x1\n",
    "height = y2 - y1\n",
    "\n",
    "# Calcula el número de celdas en la dirección x e y, redondeando al entero más cercano\n",
    "xcells = int(np.round(width / side_length))\n",
    "ycells = int(np.round(height / side_length))\n",
    "\n",
    "# Crea una serie de índices igualmente espaciados en las direcciones x e y\n",
    "yindices = np.linspace(y1, y2, ycells + 1)\n",
    "xindices = np.linspace(x1, x2, xcells + 1)\n",
    "width,height\n"
   ]
  },
  {
   "cell_type": "code",
   "execution_count": 11,
   "metadata": {},
   "outputs": [
    {
     "data": {
      "text/plain": [
       "[<LINESTRING (-73.12 -36.807, -73.12 -36.781)>,\n",
       " <LINESTRING (-73.109 -36.807, -73.109 -36.781)>,\n",
       " <LINESTRING (-73.098 -36.807, -73.098 -36.781)>,\n",
       " <LINESTRING (-73.087 -36.807, -73.087 -36.781)>]"
      ]
     },
     "execution_count": 11,
     "metadata": {},
     "output_type": "execute_result"
    }
   ],
   "source": [
    "# Crea una lista de líneas horizontales que atraviesan el rectángulo delimitador en direcciones verticales.\n",
    "horizontal_splitters = [\n",
    "    LineString([(x, yindices[0]), (x, yindices[-1])]) for x in xindices\n",
    "]\n",
    "\n",
    "# Imprime la lista de líneas horizontales.\n",
    "horizontal_splitters"
   ]
  },
  {
   "cell_type": "code",
   "execution_count": 12,
   "metadata": {},
   "outputs": [
    {
     "data": {
      "text/plain": [
       "[<LINESTRING (-73.12 -36.807, -73.087 -36.807)>,\n",
       " <LINESTRING (-73.12 -36.798, -73.087 -36.798)>,\n",
       " <LINESTRING (-73.12 -36.79, -73.087 -36.79)>,\n",
       " <LINESTRING (-73.12 -36.781, -73.087 -36.781)>]"
      ]
     },
     "execution_count": 12,
     "metadata": {},
     "output_type": "execute_result"
    }
   ],
   "source": [
    "# Crea una lista de líneas verticales que atraviesan el rectángulo delimitador en direcciones horizontales.\n",
    "vertical_splitters = [\n",
    "    LineString([(xindices[0], y), (xindices[-1], y)]) for y in yindices\n",
    "]\n",
    "\n",
    "# Imprime la lista de líneas verticales.\n",
    "vertical_splitters"
   ]
  },
  {
   "cell_type": "code",
   "execution_count": 13,
   "metadata": {},
   "outputs": [
    {
     "data": {
      "image/svg+xml": [
       "<svg xmlns=\"http://www.w3.org/2000/svg\" xmlns:xlink=\"http://www.w3.org/1999/xlink\" width=\"100.0\" height=\"100.0\" viewBox=\"-73.12156779203043 -36.80833944136688 0.035408490345474775 0.02871828522466302\" preserveAspectRatio=\"xMinYMin meet\"><g transform=\"matrix(1,0,0,-1,0,-73.5879605975091)\"><path fill-rule=\"evenodd\" fill=\"#66cc99\" stroke=\"#555555\" stroke-width=\"0.0007081698069094955\" opacity=\"0.6\" d=\"M -73.12025636646209,-36.80702801579853 L -73.0874707272533,-36.80702801579853 L -73.0874707272533,-36.78093258171057 L -73.12025636646209,-36.78093258171057 L -73.12025636646209,-36.80702801579853 z\" /></g></svg>"
      ],
      "text/plain": [
       "<POLYGON ((-73.12 -36.807, -73.087 -36.807, -73.087 -36.781, -73.12 -36.781,...>"
      ]
     },
     "execution_count": 13,
     "metadata": {},
     "output_type": "execute_result"
    }
   ],
   "source": [
    "# Asigna la geometría del rectángulo delimitador original a la variable 'result'.\n",
    "result = Rectangle\n",
    "\n",
    "# Imprime 'result', que ahora contiene la misma geometría que 'Rectangle'.\n",
    "result"
   ]
  },
  {
   "cell_type": "code",
   "execution_count": 14,
   "metadata": {},
   "outputs": [
    {
     "data": {
      "image/svg+xml": [
       "<svg xmlns=\"http://www.w3.org/2000/svg\" xmlns:xlink=\"http://www.w3.org/1999/xlink\" width=\"100.0\" height=\"100.0\" viewBox=\"-73.12156779203043 -36.80833944136688 0.035408490345474775 0.02871828522466302\" preserveAspectRatio=\"xMinYMin meet\"><g transform=\"matrix(1,0,0,-1,0,-73.5879605975091)\"><g><path fill-rule=\"evenodd\" fill=\"#ff3333\" stroke=\"#555555\" stroke-width=\"0.0007081698069094955\" opacity=\"0.6\" d=\"M -73.0874707272533,-36.80702801579853 L -73.12025636646209,-36.80702801579853 L -73.12025636646209,-36.79832953776921 L -73.0874707272533,-36.79832953776921 L -73.0874707272533,-36.80702801579853 z\" /><path fill-rule=\"evenodd\" fill=\"#ff3333\" stroke=\"#555555\" stroke-width=\"0.0007081698069094955\" opacity=\"0.6\" d=\"M -73.12025636646209,-36.79832953776921 L -73.12025636646209,-36.78963105973989 L -73.0874707272533,-36.78963105973989 L -73.0874707272533,-36.79832953776921 L -73.12025636646209,-36.79832953776921 z\" /><path fill-rule=\"evenodd\" fill=\"#ff3333\" stroke=\"#555555\" stroke-width=\"0.0007081698069094955\" opacity=\"0.6\" d=\"M -73.12025636646209,-36.78963105973989 L -73.12025636646209,-36.78093258171057 L -73.0874707272533,-36.78093258171057 L -73.0874707272533,-36.78963105973989 L -73.12025636646209,-36.78963105973989 z\" /></g></g></svg>"
      ],
      "text/plain": [
       "<MULTIPOLYGON (((-73.087 -36.807, -73.12 -36.807, -73.12 -36.798, -73.087 -3...>"
      ]
     },
     "execution_count": 14,
     "metadata": {},
     "output_type": "execute_result"
    }
   ],
   "source": [
    "# Itera sobre la lista de líneas verticales 'vertical_splitters' y divide la geometría 'result' en múltiples polígonos.\n",
    "for splitter in vertical_splitters:\n",
    "    result = MultiPolygon(split(result, splitter))\n",
    "\n",
    "# Imprime 'result', que ahora contiene los polígonos resultantes después de la división.\n",
    "result"
   ]
  },
  {
   "cell_type": "code",
   "execution_count": 15,
   "metadata": {},
   "outputs": [
    {
     "name": "stdout",
     "output_type": "stream",
     "text": [
      "hola\n",
      "hola\n",
      "hola\n",
      "hola\n"
     ]
    },
    {
     "data": {
      "image/svg+xml": [
       "<svg xmlns=\"http://www.w3.org/2000/svg\" xmlns:xlink=\"http://www.w3.org/1999/xlink\" width=\"100.0\" height=\"100.0\" viewBox=\"-73.12156779203043 -36.80833944136688 0.035408490345474775 0.02871828522466302\" preserveAspectRatio=\"xMinYMin meet\"><g transform=\"matrix(1,0,0,-1,0,-73.5879605975091)\"><g><path fill-rule=\"evenodd\" fill=\"#ff3333\" stroke=\"#555555\" stroke-width=\"0.0007081698069094955\" opacity=\"0.6\" d=\"M -73.0874707272533,-36.80702801579853 L -73.09839927365623,-36.80702801579853 L -73.09839927365623,-36.79832953776921 L -73.0874707272533,-36.79832953776921 L -73.0874707272533,-36.80702801579853 z\" /><path fill-rule=\"evenodd\" fill=\"#ff3333\" stroke=\"#555555\" stroke-width=\"0.0007081698069094955\" opacity=\"0.6\" d=\"M -73.09839927365623,-36.80702801579853 L -73.10932782005916,-36.80702801579853 L -73.10932782005916,-36.79832953776921 L -73.09839927365623,-36.79832953776921 L -73.09839927365623,-36.80702801579853 z\" /><path fill-rule=\"evenodd\" fill=\"#ff3333\" stroke=\"#555555\" stroke-width=\"0.0007081698069094955\" opacity=\"0.6\" d=\"M -73.10932782005916,-36.80702801579853 L -73.12025636646209,-36.80702801579853 L -73.12025636646209,-36.79832953776921 L -73.10932782005916,-36.79832953776921 L -73.10932782005916,-36.80702801579853 z\" /><path fill-rule=\"evenodd\" fill=\"#ff3333\" stroke=\"#555555\" stroke-width=\"0.0007081698069094955\" opacity=\"0.6\" d=\"M -73.12025636646209,-36.79832953776921 L -73.12025636646209,-36.78963105973989 L -73.10932782005916,-36.78963105973989 L -73.10932782005916,-36.79832953776921 L -73.12025636646209,-36.79832953776921 z\" /><path fill-rule=\"evenodd\" fill=\"#ff3333\" stroke=\"#555555\" stroke-width=\"0.0007081698069094955\" opacity=\"0.6\" d=\"M -73.10932782005916,-36.78963105973989 L -73.09839927365623,-36.78963105973989 L -73.09839927365623,-36.79832953776921 L -73.10932782005916,-36.79832953776921 L -73.10932782005916,-36.78963105973989 z\" /><path fill-rule=\"evenodd\" fill=\"#ff3333\" stroke=\"#555555\" stroke-width=\"0.0007081698069094955\" opacity=\"0.6\" d=\"M -73.09839927365623,-36.78963105973989 L -73.0874707272533,-36.78963105973989 L -73.0874707272533,-36.79832953776921 L -73.09839927365623,-36.79832953776921 L -73.09839927365623,-36.78963105973989 z\" /><path fill-rule=\"evenodd\" fill=\"#ff3333\" stroke=\"#555555\" stroke-width=\"0.0007081698069094955\" opacity=\"0.6\" d=\"M -73.12025636646209,-36.78963105973989 L -73.12025636646209,-36.78093258171057 L -73.10932782005916,-36.78093258171057 L -73.10932782005916,-36.78963105973989 L -73.12025636646209,-36.78963105973989 z\" /><path fill-rule=\"evenodd\" fill=\"#ff3333\" stroke=\"#555555\" stroke-width=\"0.0007081698069094955\" opacity=\"0.6\" d=\"M -73.10932782005916,-36.78093258171057 L -73.09839927365623,-36.78093258171057 L -73.09839927365623,-36.78963105973989 L -73.10932782005916,-36.78963105973989 L -73.10932782005916,-36.78093258171057 z\" /><path fill-rule=\"evenodd\" fill=\"#ff3333\" stroke=\"#555555\" stroke-width=\"0.0007081698069094955\" opacity=\"0.6\" d=\"M -73.09839927365623,-36.78093258171057 L -73.0874707272533,-36.78093258171057 L -73.0874707272533,-36.78963105973989 L -73.09839927365623,-36.78963105973989 L -73.09839927365623,-36.78093258171057 z\" /></g></g></svg>"
      ],
      "text/plain": [
       "<MULTIPOLYGON (((-73.087 -36.807, -73.098 -36.807, -73.098 -36.798, -73.087 ...>"
      ]
     },
     "execution_count": 15,
     "metadata": {},
     "output_type": "execute_result"
    }
   ],
   "source": [
    "# Itera sobre la lista de líneas horizontales 'horizontal_splitters' y divide la geometría 'result' en múltiples polígonos.\n",
    "for splitter in horizontal_splitters:\n",
    "    result = MultiPolygon(split(result, splitter))\n",
    "    print(\"hola\")\n",
    "\n",
    "# Imprime 'result', que ahora contiene los polígonos resultantes después de la división horizontal y vertical.\n",
    "result"
   ]
  },
  {
   "cell_type": "code",
   "execution_count": 16,
   "metadata": {},
   "outputs": [
    {
     "data": {
      "text/plain": [
       "[<POLYGON ((-73.087 -36.807, -73.098 -36.807, -73.098 -36.798, -73.087 -36.79...>,\n",
       " <POLYGON ((-73.098 -36.807, -73.109 -36.807, -73.109 -36.798, -73.098 -36.79...>,\n",
       " <POLYGON ((-73.109 -36.807, -73.12 -36.807, -73.12 -36.798, -73.109 -36.798,...>,\n",
       " <POLYGON ((-73.12 -36.798, -73.12 -36.79, -73.109 -36.79, -73.109 -36.798, -...>,\n",
       " <POLYGON ((-73.109 -36.79, -73.098 -36.79, -73.098 -36.798, -73.109 -36.798,...>,\n",
       " <POLYGON ((-73.098 -36.79, -73.087 -36.79, -73.087 -36.798, -73.098 -36.798,...>,\n",
       " <POLYGON ((-73.12 -36.79, -73.12 -36.781, -73.109 -36.781, -73.109 -36.79, -...>,\n",
       " <POLYGON ((-73.109 -36.781, -73.098 -36.781, -73.098 -36.79, -73.109 -36.79,...>,\n",
       " <POLYGON ((-73.098 -36.781, -73.087 -36.781, -73.087 -36.79, -73.098 -36.79,...>]"
      ]
     },
     "execution_count": 16,
     "metadata": {},
     "output_type": "execute_result"
    }
   ],
   "source": [
    "# Extrae los polígonos individuales del resultado final 'result' y los almacena en la lista 'square_polygons'.\n",
    "square_polygons = list(result.geoms)\n",
    "\n",
    "# Imprime 'square_polygons', que ahora contiene los polígonos individuales resultantes.\n",
    "square_polygons"
   ]
  },
  {
   "cell_type": "code",
   "execution_count": 26,
   "metadata": {},
   "outputs": [],
   "source": [
    "# Crea un GeoDataFrame a partir de la lista de polígonos 'square_polygons'.\n",
    "df = gpd.GeoDataFrame(square_polygons)\n"
   ]
  },
  {
   "cell_type": "code",
   "execution_count": 27,
   "metadata": {},
   "outputs": [],
   "source": [
    "# Crea un nuevo GeoDataFrame a partir de la lista de polígonos 'square_polygons'.\n",
    "SquareGeoDF  = gpd.GeoDataFrame(square_polygons).rename(columns={0: \"geometry\"})"
   ]
  },
  {
   "cell_type": "code",
   "execution_count": 28,
   "metadata": {},
   "outputs": [],
   "source": [
    "# Crea un nuevo GeoDataFrame a partir de la lista de polígonos 'square_polygons'.\n",
    "SquareGeoDF = gpd.GeoDataFrame(square_polygons)\n",
    "\n",
    "# Establece la geometría del GeoDataFrame en la primera columna (índice 0) de los datos.\n",
    "SquareGeoDF = SquareGeoDF.set_geometry(0)\n"
   ]
  },
  {
   "cell_type": "code",
   "execution_count": 29,
   "metadata": {},
   "outputs": [],
   "source": [
    "# Extrae las geometrías de 'SquareGeoDF' que se intersectan con la geometría 'G' y las almacena en 'Geoms'.\n",
    "Geoms = SquareGeoDF[SquareGeoDF.intersects(G)].geometry.values\n",
    "\n",
    "# Define una variable 'shape' con el valor \"square\".\n",
    "shape = \"square\"\n",
    "\n",
    "# Define una variable 'thresh' con el valor 0.9.\n",
    "thresh = 0.2"
   ]
  },
  {
   "cell_type": "code",
   "execution_count": 30,
   "metadata": {},
   "outputs": [
    {
     "data": {
      "text/plain": [
       "[<POLYGON ((-73.153 -36.737, -73.153 -36.704, -73.083 -36.704, -73.083 -36.73...>]"
      ]
     },
     "execution_count": 30,
     "metadata": {},
     "output_type": "execute_result"
    }
   ],
   "source": [
    "# Si la variable 'shape' es igual a \"rhombus\", realiza las siguientes operaciones.\n",
    "if shape == \"rhombus\":\n",
    "    # Aplica una función 'rhombus(g)' a cada geometría en 'Geoms' y almacena los resultados en 'Geoms'.\n",
    "    #Geoms = [rhombus(g) for g in Geoms]\n",
    "    # Filtra las geometrías en 'Geoms' que cumplen con una condición de área y las almacena en 'geoms'.\n",
    "    geoms = [g for g in Geoms if ((g.intersection(G)).area / g.area) >= thresh]\n",
    "\n",
    "# Si la variable 'shape' es igual a \"square\", realiza las siguientes operaciones.\n",
    "elif shape == \"square\":\n",
    "   \n",
    "    # Filtra las geometrías en 'Geoms' que cumplen con una condición de área y las almacena en 'geoms'.\n",
    "    geoms = [g for g in Geoms if ((g.intersection(G)).area / g.area) >= thresh]\n",
    "\n",
    "geoms"
   ]
  },
  {
   "cell_type": "code",
   "execution_count": 31,
   "metadata": {},
   "outputs": [
    {
     "data": {
      "image/svg+xml": [
       "<svg xmlns=\"http://www.w3.org/2000/svg\" xmlns:xlink=\"http://www.w3.org/1999/xlink\" width=\"100.0\" height=\"100.0\" viewBox=\"-73.15603033377839 -36.73975556000823 0.07573356628446959 0.038977314251184225\" preserveAspectRatio=\"xMinYMin meet\"><g transform=\"matrix(1,0,0,-1,0,-73.44053380576527)\"><path fill-rule=\"evenodd\" fill=\"#66cc99\" stroke=\"#555555\" stroke-width=\"0.0015146713256893917\" opacity=\"0.6\" d=\"M -73.15322538687896,-36.7369506131088 L -73.08310171439335,-36.7369506131088 L -73.08310171439335,-36.70358319265647 L -73.15322538687896,-36.70358319265647 L -73.15322538687896,-36.7369506131088 z\" /></g></svg>"
      ],
      "text/plain": [
       "<POLYGON ((-73.153 -36.737, -73.083 -36.737, -73.083 -36.704, -73.153 -36.70...>"
      ]
     },
     "execution_count": 31,
     "metadata": {},
     "output_type": "execute_result"
    }
   ],
   "source": [
    "Rectangle"
   ]
  },
  {
   "cell_type": "code",
   "execution_count": 32,
   "metadata": {},
   "outputs": [
    {
     "data": {
      "image/svg+xml": [
       "<svg xmlns=\"http://www.w3.org/2000/svg\" xmlns:xlink=\"http://www.w3.org/1999/xlink\" width=\"100.0\" height=\"100.0\" viewBox=\"-73.15603033377839 -36.73975556000823 0.07573356628446959 0.038977314251184225\" preserveAspectRatio=\"xMinYMin meet\"><g transform=\"matrix(1,0,0,-1,0,-73.44053380576527)\"><path fill-rule=\"evenodd\" fill=\"#66cc99\" stroke=\"#555555\" stroke-width=\"0.0015146713256893917\" opacity=\"0.6\" d=\"M -73.15322538687896,-36.703789633622 L -73.08893820121031,-36.70358319265647 L -73.08310171439335,-36.726632340637096 L -73.11228414847592,-36.7369506131088 L -73.150135482094,-36.73392406357155 L -73.15322538687896,-36.703789633622 z\" /></g></svg>"
      ],
      "text/plain": [
       "<POLYGON ((-73.153 -36.704, -73.089 -36.704, -73.083 -36.727, -73.112 -36.73...>"
      ]
     },
     "execution_count": 32,
     "metadata": {},
     "output_type": "execute_result"
    }
   ],
   "source": [
    "G"
   ]
  },
  {
   "cell_type": "code",
   "execution_count": 33,
   "metadata": {},
   "outputs": [
    {
     "data": {
      "text/plain": [
       "[<POLYGON ((-73.153 -36.737, -73.153 -36.704, -73.083 -36.704, -73.083 -36.73...>]"
      ]
     },
     "execution_count": 33,
     "metadata": {},
     "output_type": "execute_result"
    }
   ],
   "source": [
    "grid = gpd.GeoDataFrame({'geometry':geoms})\n",
    "geoms"
   ]
  },
  {
   "cell_type": "code",
   "execution_count": 34,
   "metadata": {},
   "outputs": [
    {
     "data": {
      "image/png": "[encoded data removed]",
      "text/plain": [
       "<Figure size 640x480 with 1 Axes>"
      ]
     },
     "metadata": {},
     "output_type": "display_data"
    }
   ],
   "source": [
    "grid.plot();"
   ]
  },
  {
   "cell_type": "code",
   "execution_count": 9,
   "metadata": {},
   "outputs": [
    {
     "name": "stdout",
     "output_type": "stream",
     "text": [
      "([-73.15398858746755, -36.70643089922246], [-73.11974214276574, -36.70656852149412], [-73.12017129620828, -36.72363177314512], [-73.15707849225248, -36.72370056890712], [-73.15398858746755, -36.70643089922246])\n"
     ]
    }
   ],
   "source": [
    "coordenadas_lista = [[-73.15398858746755,-36.70643089922246],[-73.11974214276574,-36.70656852149412],[-73.12017129620828,-36.72363177314512],[-73.15707849225248,-36.72370056890712],[-73.15398858746755,-36.70643089922246]]\n",
    "\n",
    "coordenadas_tuplas = tuple(coordenadas_lista)\n",
    "\n",
    "print(coordenadas_tuplas)"
   ]
  }
 ],
 "metadata": {
  "kernelspec": {
   "display_name": "Python 3",
   "language": "python",
   "name": "python3"
  },
  "language_info": {
   "codemirror_mode": {
    "name": "ipython",
    "version": 3
   },
   "file_extension": ".py",
   "mimetype": "text/x-python",
   "name": "python",
   "nbconvert_exporter": "python",
   "pygments_lexer": "ipython3",
   "version": "3.9.17"
  },
  "orig_nbformat": 4
 },
 "nbformat": 4,
 "nbformat_minor": 2
}
