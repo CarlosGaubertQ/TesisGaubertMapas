{
 "cells": [
  {
   "cell_type": "code",
   "execution_count": 23,
   "metadata": {},
   "outputs": [],
   "source": [
    "import numpy as np  # Importa la biblioteca NumPy bajo el alias 'np' para realizar cálculos numéricos.\n",
    "from shapely.ops import split  # Importa la función 'split' desde Shapely para realizar operaciones de división en geometrías.\n",
    "import geopandas as gpd  # Importa la biblioteca GeoPandas bajo el alias 'gpd' para el análisis de datos geoespaciales.\n",
    "from shapely.geometry import MultiPolygon, Polygon, LineString  # Importa varios tipos de geometrías desde Shapely para representar formas geométricas en el espacio.\n",
    "import ee\n",
    "import geojson"
   ]
  },
  {
   "cell_type": "code",
   "execution_count": 24,
   "metadata": {},
   "outputs": [],
   "source": [
    "def descargar_imagen_landsat8(geometry, fecha_inicio, fecha_fin, tipoImagen):\n",
    "  band = ['B4', 'B3', 'B2']\n",
    "\n",
    "  # Inicializar la API de Google Earth Engine\n",
    "  ee.Initialize()\n",
    "\n",
    "  # Definir la geometría\n",
    "  geometry = ee.Geometry.Polygon(\n",
    "    [geometry], None, False);\n",
    "  \n",
    "  IMGLandsat8 = ee.ImageCollection('LANDSAT/LC08/C02/T1_RT_TOA') \\\n",
    "      .filterDate(fecha_inicio, fecha_fin) \\\n",
    "      .filterBounds(geometry) \\\n",
    "      .filterMetadata('CLOUD_COVER', 'less_than', 20)\n",
    "\n",
    "  # Obtener la imagen mediana\n",
    "  Landsat8Filtro = IMGLandsat8.median()\n",
    "\n",
    "  # Recortar la imagen con la geometría\n",
    "  Landsat8Clip = Landsat8Filtro.clip(geometry)\n",
    "\n",
    "\n",
    "\n",
    "  imagenRGB = Landsat8Clip.visualize(**{'min': 0,'max': 0.5, 'bands': band})\n",
    "  extension = 'jpg'\n",
    "\n",
    "  url = imagenRGB.getThumbURL({ 'region': geometry, 'dimensions': 500, 'format': extension })\n",
    "  \n",
    "\n",
    "  return url"
   ]
  },
  {
   "cell_type": "code",
   "execution_count": 25,
   "metadata": {},
   "outputs": [],
   "source": [
    "# Ruta del archivo de datos geoespaciales (Shapefile) que se va a leer.\n",
    "geo_filepath = \"shapefiles/nombre_shapefile.shp\""
   ]
  },
  {
   "cell_type": "code",
   "execution_count": 26,
   "metadata": {},
   "outputs": [],
   "source": [
    "# Lee el archivo Shapefile especificado en 'geo_filepath' y lo carga en un GeoDataFrame (GeoDF).\n",
    "GeoDF = gpd.read_file(geo_filepath)\n"
   ]
  },
  {
   "cell_type": "code",
   "execution_count": 27,
   "metadata": {},
   "outputs": [
    {
     "data": {
      "image/svg+xml": [
       "<svg xmlns=\"http://www.w3.org/2000/svg\" xmlns:xlink=\"http://www.w3.org/1999/xlink\" width=\"100.0\" height=\"100.0\" viewBox=\"-73.14466470546108 -36.79000628432695 0.18049235088506066 0.09798426016901374\" preserveAspectRatio=\"xMinYMin meet\"><g transform=\"matrix(1,0,0,-1,0,-73.48202830848489)\"><path fill-rule=\"evenodd\" fill=\"#66cc99\" stroke=\"#555555\" stroke-width=\"0.003609847017701213\" opacity=\"0.6\" d=\"M -73.13797980357646,-36.720316313773154 L -73.08128083041682,-36.69870692604257 L -72.97160084955114,-36.723296442044685 L -72.97085725646065,-36.76024042484195 L -73.11938997631094,-36.78332138244232 L -73.13797980357646,-36.720316313773154 z\" /></g></svg>"
      ],
      "text/plain": [
       "<POLYGON ((-73.138 -36.72, -73.081 -36.699, -72.972 -36.723, -72.971 -36.76,...>"
      ]
     },
     "execution_count": 27,
     "metadata": {},
     "output_type": "execute_result"
    }
   ],
   "source": [
    "# Selecciona una geometría aleatoria del GeoDataFrame 'GeoDF' y almacénala en la variable 'G'.\n",
    "\n",
    "G = np.random.choice(GeoDF.geometry.values)\n",
    "G"
   ]
  },
  {
   "cell_type": "code",
   "execution_count": 28,
   "metadata": {},
   "outputs": [
    {
     "data": {
      "image/svg+xml": [
       "<svg xmlns=\"http://www.w3.org/2000/svg\" xmlns:xlink=\"http://www.w3.org/1999/xlink\" width=\"100.0\" height=\"100.0\" viewBox=\"-73.14466470546108 -36.79000628432695 0.18049235088506066 0.09798426016901374\" preserveAspectRatio=\"xMinYMin meet\"><g transform=\"matrix(1,0,0,-1,0,-73.48202830848489)\"><path fill-rule=\"evenodd\" fill=\"#66cc99\" stroke=\"#555555\" stroke-width=\"0.003609847017701213\" opacity=\"0.6\" d=\"M -73.13797980357646,-36.78332138244232 L -72.97085725646065,-36.78332138244232 L -72.97085725646065,-36.69870692604257 L -73.13797980357646,-36.69870692604257 L -73.13797980357646,-36.78332138244232 z\" /></g></svg>"
      ],
      "text/plain": [
       "<POLYGON ((-73.138 -36.783, -72.971 -36.783, -72.971 -36.699, -73.138 -36.69...>"
      ]
     },
     "execution_count": 28,
     "metadata": {},
     "output_type": "execute_result"
    }
   ],
   "source": [
    "# Calcula la envolvente (rectángulo delimitador) de la geometría almacenada en 'G' y almacena el resultado en 'Rectangle'.\n",
    "Rectangle = G.envelope\n",
    "Rectangle"
   ]
  },
  {
   "cell_type": "code",
   "execution_count": 29,
   "metadata": {},
   "outputs": [
    {
     "data": {
      "text/plain": [
       "(0.16712254711580954, 0.0846144563997484)"
      ]
     },
     "execution_count": 29,
     "metadata": {},
     "output_type": "execute_result"
    }
   ],
   "source": [
    "# Longitud del lado de la celda\n",
    "side_length = 0.02\n",
    "\n",
    "# Obtiene las coordenadas de la envolvente del rectángulo y las almacena en 'rect_coords'\n",
    "rect_coords = np.array(Rectangle.boundary.coords.xy)\n",
    "\n",
    "# Extrae las listas de coordenadas x e y de 'rect_coords'\n",
    "y_list = rect_coords[1]\n",
    "x_list = rect_coords[0]\n",
    "\n",
    "# Calcula los valores mínimos y máximos de las coordenadas y para obtener la altura del rectángulo\n",
    "y1 = min(y_list)\n",
    "y2 = max(y_list)\n",
    "\n",
    "# Calcula los valores mínimos y máximos de las coordenadas x para obtener el ancho del rectángulo\n",
    "x1 = min(x_list)\n",
    "x2 = max(x_list)\n",
    "\n",
    "# Calcula el ancho y la altura del rectángulo\n",
    "width = x2 - x1\n",
    "height = y2 - y1\n",
    "\n",
    "# Calcula el número de celdas en la dirección x e y, redondeando al entero más cercano\n",
    "xcells = int(np.round(width / side_length))\n",
    "ycells = int(np.round(height / side_length))\n",
    "\n",
    "# Crea una serie de índices igualmente espaciados en las direcciones x e y\n",
    "yindices = np.linspace(y1, y2, ycells + 1)\n",
    "xindices = np.linspace(x1, x2, xcells + 1)\n",
    "width,height\n"
   ]
  },
  {
   "cell_type": "code",
   "execution_count": 30,
   "metadata": {},
   "outputs": [
    {
     "data": {
      "text/plain": [
       "[<LINESTRING (-73.138 -36.783, -73.138 -36.699)>,\n",
       " <LINESTRING (-73.117 -36.783, -73.117 -36.699)>,\n",
       " <LINESTRING (-73.096 -36.783, -73.096 -36.699)>,\n",
       " <LINESTRING (-73.075 -36.783, -73.075 -36.699)>,\n",
       " <LINESTRING (-73.054 -36.783, -73.054 -36.699)>,\n",
       " <LINESTRING (-73.034 -36.783, -73.034 -36.699)>,\n",
       " <LINESTRING (-73.013 -36.783, -73.013 -36.699)>,\n",
       " <LINESTRING (-72.992 -36.783, -72.992 -36.699)>,\n",
       " <LINESTRING (-72.971 -36.783, -72.971 -36.699)>]"
      ]
     },
     "execution_count": 30,
     "metadata": {},
     "output_type": "execute_result"
    }
   ],
   "source": [
    "# Crea una lista de líneas horizontales que atraviesan el rectángulo delimitador en direcciones verticales.\n",
    "horizontal_splitters = [\n",
    "    LineString([(x, yindices[0]), (x, yindices[-1])]) for x in xindices\n",
    "]\n",
    "\n",
    "# Imprime la lista de líneas horizontales.\n",
    "horizontal_splitters"
   ]
  },
  {
   "cell_type": "code",
   "execution_count": 31,
   "metadata": {},
   "outputs": [
    {
     "data": {
      "text/plain": [
       "[<LINESTRING (-73.138 -36.783, -72.971 -36.783)>,\n",
       " <LINESTRING (-73.138 -36.762, -72.971 -36.762)>,\n",
       " <LINESTRING (-73.138 -36.741, -72.971 -36.741)>,\n",
       " <LINESTRING (-73.138 -36.72, -72.971 -36.72)>,\n",
       " <LINESTRING (-73.138 -36.699, -72.971 -36.699)>]"
      ]
     },
     "execution_count": 31,
     "metadata": {},
     "output_type": "execute_result"
    }
   ],
   "source": [
    "# Crea una lista de líneas verticales que atraviesan el rectángulo delimitador en direcciones horizontales.\n",
    "vertical_splitters = [\n",
    "    LineString([(xindices[0], y), (xindices[-1], y)]) for y in yindices\n",
    "]\n",
    "\n",
    "# Imprime la lista de líneas verticales.\n",
    "vertical_splitters"
   ]
  },
  {
   "cell_type": "code",
   "execution_count": 32,
   "metadata": {},
   "outputs": [
    {
     "data": {
      "image/svg+xml": [
       "<svg xmlns=\"http://www.w3.org/2000/svg\" xmlns:xlink=\"http://www.w3.org/1999/xlink\" width=\"100.0\" height=\"100.0\" viewBox=\"-73.14466470546108 -36.79000628432695 0.18049235088506066 0.09798426016901374\" preserveAspectRatio=\"xMinYMin meet\"><g transform=\"matrix(1,0,0,-1,0,-73.48202830848489)\"><path fill-rule=\"evenodd\" fill=\"#66cc99\" stroke=\"#555555\" stroke-width=\"0.003609847017701213\" opacity=\"0.6\" d=\"M -73.13797980357646,-36.78332138244232 L -72.97085725646065,-36.78332138244232 L -72.97085725646065,-36.69870692604257 L -73.13797980357646,-36.69870692604257 L -73.13797980357646,-36.78332138244232 z\" /></g></svg>"
      ],
      "text/plain": [
       "<POLYGON ((-73.138 -36.783, -72.971 -36.783, -72.971 -36.699, -73.138 -36.69...>"
      ]
     },
     "execution_count": 32,
     "metadata": {},
     "output_type": "execute_result"
    }
   ],
   "source": [
    "# Asigna la geometría del rectángulo delimitador original a la variable 'result'.\n",
    "result = Rectangle\n",
    "\n",
    "# Imprime 'result', que ahora contiene la misma geometría que 'Rectangle'.\n",
    "result"
   ]
  },
  {
   "cell_type": "code",
   "execution_count": 33,
   "metadata": {},
   "outputs": [
    {
     "data": {
      "image/svg+xml": [
       "<svg xmlns=\"http://www.w3.org/2000/svg\" xmlns:xlink=\"http://www.w3.org/1999/xlink\" width=\"100.0\" height=\"100.0\" viewBox=\"-73.14466470546108 -36.79000628432695 0.18049235088506066 0.09798426016901374\" preserveAspectRatio=\"xMinYMin meet\"><g transform=\"matrix(1,0,0,-1,0,-73.48202830848489)\"><g><path fill-rule=\"evenodd\" fill=\"#ff3333\" stroke=\"#555555\" stroke-width=\"0.003609847017701213\" opacity=\"0.6\" d=\"M -72.97085725646065,-36.78332138244232 L -73.13797980357646,-36.78332138244232 L -73.13797980357646,-36.76216776834238 L -72.97085725646065,-36.76216776834238 L -72.97085725646065,-36.78332138244232 z\" /><path fill-rule=\"evenodd\" fill=\"#ff3333\" stroke=\"#555555\" stroke-width=\"0.003609847017701213\" opacity=\"0.6\" d=\"M -73.13797980357646,-36.76216776834238 L -73.13797980357646,-36.74101415424244 L -72.97085725646065,-36.74101415424244 L -72.97085725646065,-36.76216776834238 L -73.13797980357646,-36.76216776834238 z\" /><path fill-rule=\"evenodd\" fill=\"#ff3333\" stroke=\"#555555\" stroke-width=\"0.003609847017701213\" opacity=\"0.6\" d=\"M -73.13797980357646,-36.74101415424244 L -73.13797980357646,-36.719860540142506 L -72.97085725646065,-36.719860540142506 L -72.97085725646065,-36.74101415424244 L -73.13797980357646,-36.74101415424244 z\" /><path fill-rule=\"evenodd\" fill=\"#ff3333\" stroke=\"#555555\" stroke-width=\"0.003609847017701213\" opacity=\"0.6\" d=\"M -73.13797980357646,-36.719860540142506 L -73.13797980357646,-36.69870692604257 L -72.97085725646065,-36.69870692604257 L -72.97085725646065,-36.719860540142506 L -73.13797980357646,-36.719860540142506 z\" /></g></g></svg>"
      ],
      "text/plain": [
       "<MULTIPOLYGON (((-72.971 -36.783, -73.138 -36.783, -73.138 -36.762, -72.971 ...>"
      ]
     },
     "execution_count": 33,
     "metadata": {},
     "output_type": "execute_result"
    }
   ],
   "source": [
    "# Itera sobre la lista de líneas verticales 'vertical_splitters' y divide la geometría 'result' en múltiples polígonos.\n",
    "for splitter in vertical_splitters:\n",
    "    result = MultiPolygon(split(result, splitter))\n",
    "\n",
    "# Imprime 'result', que ahora contiene los polígonos resultantes después de la división.\n",
    "result"
   ]
  },
  {
   "cell_type": "code",
   "execution_count": 34,
   "metadata": {},
   "outputs": [
    {
     "data": {
      "image/svg+xml": [
       "<svg xmlns=\"http://www.w3.org/2000/svg\" xmlns:xlink=\"http://www.w3.org/1999/xlink\" width=\"100.0\" height=\"100.0\" viewBox=\"-73.14466470546108 -36.79000628432695 0.18049235088506066 0.09798426016901374\" preserveAspectRatio=\"xMinYMin meet\"><g transform=\"matrix(1,0,0,-1,0,-73.48202830848489)\"><g><path fill-rule=\"evenodd\" fill=\"#ff3333\" stroke=\"#555555\" stroke-width=\"0.003609847017701213\" opacity=\"0.6\" d=\"M -72.97085725646065,-36.78332138244232 L -72.99174757485012,-36.78332138244232 L -72.99174757485012,-36.76216776834238 L -72.97085725646065,-36.76216776834238 L -72.97085725646065,-36.78332138244232 z\" /><path fill-rule=\"evenodd\" fill=\"#ff3333\" stroke=\"#555555\" stroke-width=\"0.003609847017701213\" opacity=\"0.6\" d=\"M -72.99174757485012,-36.78332138244232 L -73.0126378932396,-36.78332138244232 L -73.0126378932396,-36.76216776834238 L -72.99174757485012,-36.76216776834238 L -72.99174757485012,-36.78332138244232 z\" /><path fill-rule=\"evenodd\" fill=\"#ff3333\" stroke=\"#555555\" stroke-width=\"0.003609847017701213\" opacity=\"0.6\" d=\"M -73.0126378932396,-36.78332138244232 L -73.03352821162908,-36.78332138244232 L -73.03352821162908,-36.76216776834238 L -73.0126378932396,-36.76216776834238 L -73.0126378932396,-36.78332138244232 z\" /><path fill-rule=\"evenodd\" fill=\"#ff3333\" stroke=\"#555555\" stroke-width=\"0.003609847017701213\" opacity=\"0.6\" d=\"M -73.03352821162908,-36.78332138244232 L -73.05441853001855,-36.78332138244232 L -73.05441853001855,-36.76216776834238 L -73.03352821162908,-36.76216776834238 L -73.03352821162908,-36.78332138244232 z\" /><path fill-rule=\"evenodd\" fill=\"#ff3333\" stroke=\"#555555\" stroke-width=\"0.003609847017701213\" opacity=\"0.6\" d=\"M -73.05441853001855,-36.78332138244232 L -73.07530884840803,-36.78332138244232 L -73.07530884840803,-36.76216776834238 L -73.05441853001855,-36.76216776834238 L -73.05441853001855,-36.78332138244232 z\" /><path fill-rule=\"evenodd\" fill=\"#ff3333\" stroke=\"#555555\" stroke-width=\"0.003609847017701213\" opacity=\"0.6\" d=\"M -73.07530884840803,-36.78332138244232 L -73.0961991667975,-36.78332138244232 L -73.0961991667975,-36.76216776834238 L -73.07530884840803,-36.76216776834238 L -73.07530884840803,-36.78332138244232 z\" /><path fill-rule=\"evenodd\" fill=\"#ff3333\" stroke=\"#555555\" stroke-width=\"0.003609847017701213\" opacity=\"0.6\" d=\"M -73.0961991667975,-36.78332138244232 L -73.11708948518698,-36.78332138244232 L -73.11708948518698,-36.76216776834238 L -73.0961991667975,-36.76216776834238 L -73.0961991667975,-36.78332138244232 z\" /><path fill-rule=\"evenodd\" fill=\"#ff3333\" stroke=\"#555555\" stroke-width=\"0.003609847017701213\" opacity=\"0.6\" d=\"M -73.11708948518698,-36.78332138244232 L -73.13797980357646,-36.78332138244232 L -73.13797980357646,-36.76216776834238 L -73.11708948518698,-36.76216776834238 L -73.11708948518698,-36.78332138244232 z\" /><path fill-rule=\"evenodd\" fill=\"#ff3333\" stroke=\"#555555\" stroke-width=\"0.003609847017701213\" opacity=\"0.6\" d=\"M -73.13797980357646,-36.76216776834238 L -73.13797980357646,-36.74101415424244 L -73.11708948518698,-36.74101415424244 L -73.11708948518698,-36.76216776834238 L -73.13797980357646,-36.76216776834238 z\" /><path fill-rule=\"evenodd\" fill=\"#ff3333\" stroke=\"#555555\" stroke-width=\"0.003609847017701213\" opacity=\"0.6\" d=\"M -73.11708948518698,-36.74101415424244 L -73.0961991667975,-36.74101415424244 L -73.0961991667975,-36.76216776834238 L -73.11708948518698,-36.76216776834238 L -73.11708948518698,-36.74101415424244 z\" /><path fill-rule=\"evenodd\" fill=\"#ff3333\" stroke=\"#555555\" stroke-width=\"0.003609847017701213\" opacity=\"0.6\" d=\"M -73.0961991667975,-36.74101415424244 L -73.07530884840803,-36.74101415424244 L -73.07530884840803,-36.76216776834238 L -73.0961991667975,-36.76216776834238 L -73.0961991667975,-36.74101415424244 z\" /><path fill-rule=\"evenodd\" fill=\"#ff3333\" stroke=\"#555555\" stroke-width=\"0.003609847017701213\" opacity=\"0.6\" d=\"M -73.07530884840803,-36.74101415424244 L -73.05441853001855,-36.74101415424244 L -73.05441853001855,-36.76216776834238 L -73.07530884840803,-36.76216776834238 L -73.07530884840803,-36.74101415424244 z\" /><path fill-rule=\"evenodd\" fill=\"#ff3333\" stroke=\"#555555\" stroke-width=\"0.003609847017701213\" opacity=\"0.6\" d=\"M -73.05441853001855,-36.74101415424244 L -73.03352821162908,-36.74101415424244 L -73.03352821162908,-36.76216776834238 L -73.05441853001855,-36.76216776834238 L -73.05441853001855,-36.74101415424244 z\" /><path fill-rule=\"evenodd\" fill=\"#ff3333\" stroke=\"#555555\" stroke-width=\"0.003609847017701213\" opacity=\"0.6\" d=\"M -73.03352821162908,-36.74101415424244 L -73.0126378932396,-36.74101415424244 L -73.0126378932396,-36.76216776834238 L -73.03352821162908,-36.76216776834238 L -73.03352821162908,-36.74101415424244 z\" /><path fill-rule=\"evenodd\" fill=\"#ff3333\" stroke=\"#555555\" stroke-width=\"0.003609847017701213\" opacity=\"0.6\" d=\"M -73.0126378932396,-36.74101415424244 L -72.99174757485012,-36.74101415424244 L -72.99174757485012,-36.76216776834238 L -73.0126378932396,-36.76216776834238 L -73.0126378932396,-36.74101415424244 z\" /><path fill-rule=\"evenodd\" fill=\"#ff3333\" stroke=\"#555555\" stroke-width=\"0.003609847017701213\" opacity=\"0.6\" d=\"M -72.99174757485012,-36.74101415424244 L -72.97085725646065,-36.74101415424244 L -72.97085725646065,-36.76216776834238 L -72.99174757485012,-36.76216776834238 L -72.99174757485012,-36.74101415424244 z\" /><path fill-rule=\"evenodd\" fill=\"#ff3333\" stroke=\"#555555\" stroke-width=\"0.003609847017701213\" opacity=\"0.6\" d=\"M -73.13797980357646,-36.74101415424244 L -73.13797980357646,-36.719860540142506 L -73.11708948518698,-36.719860540142506 L -73.11708948518698,-36.74101415424244 L -73.13797980357646,-36.74101415424244 z\" /><path fill-rule=\"evenodd\" fill=\"#ff3333\" stroke=\"#555555\" stroke-width=\"0.003609847017701213\" opacity=\"0.6\" d=\"M -73.11708948518698,-36.719860540142506 L -73.0961991667975,-36.719860540142506 L -73.0961991667975,-36.74101415424244 L -73.11708948518698,-36.74101415424244 L -73.11708948518698,-36.719860540142506 z\" /><path fill-rule=\"evenodd\" fill=\"#ff3333\" stroke=\"#555555\" stroke-width=\"0.003609847017701213\" opacity=\"0.6\" d=\"M -73.0961991667975,-36.719860540142506 L -73.07530884840803,-36.719860540142506 L -73.07530884840803,-36.74101415424244 L -73.0961991667975,-36.74101415424244 L -73.0961991667975,-36.719860540142506 z\" /><path fill-rule=\"evenodd\" fill=\"#ff3333\" stroke=\"#555555\" stroke-width=\"0.003609847017701213\" opacity=\"0.6\" d=\"M -73.07530884840803,-36.719860540142506 L -73.05441853001855,-36.719860540142506 L -73.05441853001855,-36.74101415424244 L -73.07530884840803,-36.74101415424244 L -73.07530884840803,-36.719860540142506 z\" /><path fill-rule=\"evenodd\" fill=\"#ff3333\" stroke=\"#555555\" stroke-width=\"0.003609847017701213\" opacity=\"0.6\" d=\"M -73.05441853001855,-36.719860540142506 L -73.03352821162908,-36.719860540142506 L -73.03352821162908,-36.74101415424244 L -73.05441853001855,-36.74101415424244 L -73.05441853001855,-36.719860540142506 z\" /><path fill-rule=\"evenodd\" fill=\"#ff3333\" stroke=\"#555555\" stroke-width=\"0.003609847017701213\" opacity=\"0.6\" d=\"M -73.03352821162908,-36.719860540142506 L -73.0126378932396,-36.719860540142506 L -73.0126378932396,-36.74101415424244 L -73.03352821162908,-36.74101415424244 L -73.03352821162908,-36.719860540142506 z\" /><path fill-rule=\"evenodd\" fill=\"#ff3333\" stroke=\"#555555\" stroke-width=\"0.003609847017701213\" opacity=\"0.6\" d=\"M -73.0126378932396,-36.719860540142506 L -72.99174757485012,-36.719860540142506 L -72.99174757485012,-36.74101415424244 L -73.0126378932396,-36.74101415424244 L -73.0126378932396,-36.719860540142506 z\" /><path fill-rule=\"evenodd\" fill=\"#ff3333\" stroke=\"#555555\" stroke-width=\"0.003609847017701213\" opacity=\"0.6\" d=\"M -72.99174757485012,-36.719860540142506 L -72.97085725646065,-36.719860540142506 L -72.97085725646065,-36.74101415424244 L -72.99174757485012,-36.74101415424244 L -72.99174757485012,-36.719860540142506 z\" /><path fill-rule=\"evenodd\" fill=\"#ff3333\" stroke=\"#555555\" stroke-width=\"0.003609847017701213\" opacity=\"0.6\" d=\"M -73.13797980357646,-36.719860540142506 L -73.13797980357646,-36.69870692604257 L -73.11708948518698,-36.69870692604257 L -73.11708948518698,-36.719860540142506 L -73.13797980357646,-36.719860540142506 z\" /><path fill-rule=\"evenodd\" fill=\"#ff3333\" stroke=\"#555555\" stroke-width=\"0.003609847017701213\" opacity=\"0.6\" d=\"M -73.11708948518698,-36.69870692604257 L -73.0961991667975,-36.69870692604257 L -73.0961991667975,-36.719860540142506 L -73.11708948518698,-36.719860540142506 L -73.11708948518698,-36.69870692604257 z\" /><path fill-rule=\"evenodd\" fill=\"#ff3333\" stroke=\"#555555\" stroke-width=\"0.003609847017701213\" opacity=\"0.6\" d=\"M -73.0961991667975,-36.69870692604257 L -73.07530884840803,-36.69870692604257 L -73.07530884840803,-36.719860540142506 L -73.0961991667975,-36.719860540142506 L -73.0961991667975,-36.69870692604257 z\" /><path fill-rule=\"evenodd\" fill=\"#ff3333\" stroke=\"#555555\" stroke-width=\"0.003609847017701213\" opacity=\"0.6\" d=\"M -73.07530884840803,-36.69870692604257 L -73.05441853001855,-36.69870692604257 L -73.05441853001855,-36.719860540142506 L -73.07530884840803,-36.719860540142506 L -73.07530884840803,-36.69870692604257 z\" /><path fill-rule=\"evenodd\" fill=\"#ff3333\" stroke=\"#555555\" stroke-width=\"0.003609847017701213\" opacity=\"0.6\" d=\"M -73.05441853001855,-36.69870692604257 L -73.03352821162908,-36.69870692604257 L -73.03352821162908,-36.719860540142506 L -73.05441853001855,-36.719860540142506 L -73.05441853001855,-36.69870692604257 z\" /><path fill-rule=\"evenodd\" fill=\"#ff3333\" stroke=\"#555555\" stroke-width=\"0.003609847017701213\" opacity=\"0.6\" d=\"M -73.03352821162908,-36.69870692604257 L -73.0126378932396,-36.69870692604257 L -73.0126378932396,-36.719860540142506 L -73.03352821162908,-36.719860540142506 L -73.03352821162908,-36.69870692604257 z\" /><path fill-rule=\"evenodd\" fill=\"#ff3333\" stroke=\"#555555\" stroke-width=\"0.003609847017701213\" opacity=\"0.6\" d=\"M -73.0126378932396,-36.69870692604257 L -72.99174757485012,-36.69870692604257 L -72.99174757485012,-36.719860540142506 L -73.0126378932396,-36.719860540142506 L -73.0126378932396,-36.69870692604257 z\" /><path fill-rule=\"evenodd\" fill=\"#ff3333\" stroke=\"#555555\" stroke-width=\"0.003609847017701213\" opacity=\"0.6\" d=\"M -72.99174757485012,-36.69870692604257 L -72.97085725646065,-36.69870692604257 L -72.97085725646065,-36.719860540142506 L -72.99174757485012,-36.719860540142506 L -72.99174757485012,-36.69870692604257 z\" /></g></g></svg>"
      ],
      "text/plain": [
       "<MULTIPOLYGON (((-72.971 -36.783, -72.992 -36.783, -72.992 -36.762, -72.971 ...>"
      ]
     },
     "execution_count": 34,
     "metadata": {},
     "output_type": "execute_result"
    }
   ],
   "source": [
    "# Itera sobre la lista de líneas horizontales 'horizontal_splitters' y divide la geometría 'result' en múltiples polígonos.\n",
    "for splitter in horizontal_splitters:\n",
    "    result = MultiPolygon(split(result, splitter))\n",
    "\n",
    "# Imprime 'result', que ahora contiene los polígonos resultantes después de la división horizontal y vertical.\n",
    "result\n"
   ]
  },
  {
   "cell_type": "code",
   "execution_count": 35,
   "metadata": {},
   "outputs": [
    {
     "data": {
      "text/plain": [
       "32"
      ]
     },
     "execution_count": 35,
     "metadata": {},
     "output_type": "execute_result"
    }
   ],
   "source": [
    "# Extrae los polígonos individuales del resultado final 'result' y los almacena en la lista 'square_polygons'.\n",
    "square_polygons = list(result.geoms)\n",
    "len(square_polygons)\n"
   ]
  },
  {
   "cell_type": "code",
   "execution_count": 36,
   "metadata": {},
   "outputs": [],
   "source": [
    "# Crea un GeoDataFrame a partir de la lista de polígonos 'square_polygons'.\n",
    "df = gpd.GeoDataFrame(square_polygons)\n"
   ]
  },
  {
   "cell_type": "code",
   "execution_count": 37,
   "metadata": {},
   "outputs": [],
   "source": [
    "# Crea un nuevo GeoDataFrame a partir de la lista de polígonos 'square_polygons'.\n",
    "SquareGeoDF  = gpd.GeoDataFrame(square_polygons).rename(columns={0: \"geometry\"})"
   ]
  },
  {
   "cell_type": "code",
   "execution_count": 38,
   "metadata": {},
   "outputs": [],
   "source": [
    "# Crea un nuevo GeoDataFrame a partir de la lista de polígonos 'square_polygons'.\n",
    "SquareGeoDF = gpd.GeoDataFrame(square_polygons)\n",
    "\n",
    "# Establece la geometría del GeoDataFrame en la primera columna (índice 0) de los datos.\n",
    "SquareGeoDF = SquareGeoDF.set_geometry(0)\n"
   ]
  },
  {
   "cell_type": "code",
   "execution_count": 39,
   "metadata": {},
   "outputs": [],
   "source": [
    "# Extrae las geometrías de 'SquareGeoDF' que se intersectan con la geometría 'G' y las almacena en 'Geoms'.\n",
    "Geoms = SquareGeoDF[SquareGeoDF.intersects(G)].geometry.values\n",
    "\n",
    "# Define una variable 'shape' con el valor \"square\".\n",
    "shape = \"square\"\n",
    "\n",
    "# Define una variable 'thresh' con el valor 0.9.\n",
    "thresh = 0.2"
   ]
  },
  {
   "cell_type": "code",
   "execution_count": 40,
   "metadata": {},
   "outputs": [
    {
     "data": {
      "text/plain": [
       "27"
      ]
     },
     "execution_count": 40,
     "metadata": {},
     "output_type": "execute_result"
    }
   ],
   "source": [
    "# Si la variable 'shape' es igual a \"rhombus\", realiza las siguientes operaciones.\n",
    "if shape == \"rhombus\":\n",
    "    # Aplica una función 'rhombus(g)' a cada geometría en 'Geoms' y almacena los resultados en 'Geoms'.\n",
    "    #Geoms = [rhombus(g) for g in Geoms]\n",
    "    # Filtra las geometrías en 'Geoms' que cumplen con una condición de área y las almacena en 'geoms'.\n",
    "    geoms = [g for g in Geoms if ((g.intersection(G)).area / g.area) >= thresh]\n",
    "\n",
    "# Si la variable 'shape' es igual a \"square\", realiza las siguientes operaciones.\n",
    "elif shape == \"square\":\n",
    "   \n",
    "    # Filtra las geometrías en 'Geoms' que cumplen con una condición de área y las almacena en 'geoms'.\n",
    "    geoms = [g for g in Geoms if ((g.intersection(G)).area / g.area) >= thresh]\n",
    "\n",
    "geoms\n",
    "len(geoms)"
   ]
  },
  {
   "cell_type": "code",
   "execution_count": 41,
   "metadata": {},
   "outputs": [
    {
     "data": {
      "image/svg+xml": [
       "<svg xmlns=\"http://www.w3.org/2000/svg\" xmlns:xlink=\"http://www.w3.org/1999/xlink\" width=\"100.0\" height=\"100.0\" viewBox=\"-73.14466470546108 -36.79000628432695 0.18049235088506066 0.09798426016901374\" preserveAspectRatio=\"xMinYMin meet\"><g transform=\"matrix(1,0,0,-1,0,-73.48202830848489)\"><path fill-rule=\"evenodd\" fill=\"#66cc99\" stroke=\"#555555\" stroke-width=\"0.003609847017701213\" opacity=\"0.6\" d=\"M -73.13797980357646,-36.78332138244232 L -72.97085725646065,-36.78332138244232 L -72.97085725646065,-36.69870692604257 L -73.13797980357646,-36.69870692604257 L -73.13797980357646,-36.78332138244232 z\" /></g></svg>"
      ],
      "text/plain": [
       "<POLYGON ((-73.138 -36.783, -72.971 -36.783, -72.971 -36.699, -73.138 -36.69...>"
      ]
     },
     "execution_count": 41,
     "metadata": {},
     "output_type": "execute_result"
    }
   ],
   "source": [
    "Rectangle"
   ]
  },
  {
   "cell_type": "code",
   "execution_count": 42,
   "metadata": {},
   "outputs": [
    {
     "data": {
      "image/svg+xml": [
       "<svg xmlns=\"http://www.w3.org/2000/svg\" xmlns:xlink=\"http://www.w3.org/1999/xlink\" width=\"100.0\" height=\"100.0\" viewBox=\"-73.14466470546108 -36.79000628432695 0.18049235088506066 0.09798426016901374\" preserveAspectRatio=\"xMinYMin meet\"><g transform=\"matrix(1,0,0,-1,0,-73.48202830848489)\"><path fill-rule=\"evenodd\" fill=\"#66cc99\" stroke=\"#555555\" stroke-width=\"0.003609847017701213\" opacity=\"0.6\" d=\"M -73.13797980357646,-36.720316313773154 L -73.08128083041682,-36.69870692604257 L -72.97160084955114,-36.723296442044685 L -72.97085725646065,-36.76024042484195 L -73.11938997631094,-36.78332138244232 L -73.13797980357646,-36.720316313773154 z\" /></g></svg>"
      ],
      "text/plain": [
       "<POLYGON ((-73.138 -36.72, -73.081 -36.699, -72.972 -36.723, -72.971 -36.76,...>"
      ]
     },
     "execution_count": 42,
     "metadata": {},
     "output_type": "execute_result"
    }
   ],
   "source": [
    "G"
   ]
  },
  {
   "cell_type": "code",
   "execution_count": 52,
   "metadata": {},
   "outputs": [
    {
     "data": {
      "image/svg+xml": [
       "<svg xmlns=\"http://www.w3.org/2000/svg\" xmlns:xlink=\"http://www.w3.org/1999/xlink\" width=\"100.0\" height=\"100.0\" viewBox=\"-73.03437435619307 -36.72070668470651 0.02258260751746377 0.02284590322793889\" preserveAspectRatio=\"xMinYMin meet\"><g transform=\"matrix(1,0,0,-1,0,-73.41856746618507)\"><path fill-rule=\"evenodd\" fill=\"#66cc99\" stroke=\"#555555\" stroke-width=\"0.0004569180645587778\" opacity=\"0.6\" d=\"M -73.03352821162908,-36.69870692604257 L -73.0126378932396,-36.69870692604257 L -73.0126378932396,-36.719860540142506 L -73.03352821162908,-36.719860540142506 L -73.03352821162908,-36.69870692604257 z\" /></g></svg>"
      ],
      "text/plain": [
       "<POLYGON ((-73.034 -36.699, -73.013 -36.699, -73.013 -36.72, -73.034 -36.72,...>"
      ]
     },
     "execution_count": 52,
     "metadata": {},
     "output_type": "execute_result"
    }
   ],
   "source": [
    "from PIL import Image\n",
    "index = 1\n",
    "geoms[26]\n",
    "\n"
   ]
  },
  {
   "cell_type": "code",
   "execution_count": 93,
   "metadata": {},
   "outputs": [
    {
     "name": "stdout",
     "output_type": "stream",
     "text": [
      "<class 'list'>\n"
     ]
    }
   ],
   "source": [
    "import geopandas as gpd\n",
    "import matplotlib.pyplot as plt\n",
    "from PIL import Image\n",
    "print(type(geoms))\n",
    "# Supongamos que ya tienes 'geoms' definido\n",
    "grid = gpd.GeoDataFrame({'geometry': geoms})\n",
    "\n",
    "index = 1\n",
    "for sq in geoms:\n",
    "    xx, yy = sq.exterior.coords.xy\n",
    "    x = xx.tolist()\n",
    "    y = yy.tolist()\n",
    "    \n",
    "    ruta_imagen = \"./imagenes/subimagen/Sub_Landsat8_2018-01-01_2019-01-01_\" + str(index) + \".jpg\"\n",
    "    \n",
    "    try:\n",
    "        imagen = Image.open(ruta_imagen)\n",
    "        grid.loc[index - 1, 'image'] = imagen\n",
    "        #print(f\"Imagen cargada para index {index}: {ruta_imagen}\")\n",
    "    except Exception as e:\n",
    "        print(f\"Error al cargar la imagen para index {index}: {str(e)}\")\n",
    "    \n",
    "    index += 1\n",
    "\n"
   ]
  },
  {
   "cell_type": "code",
   "execution_count": 75,
   "metadata": {},
   "outputs": [
    {
     "data": {
      "image/png": "[encoded data removed]",
      "text/plain": [
       "<Figure size 640x480 with 1 Axes>"
      ]
     },
     "metadata": {},
     "output_type": "display_data"
    }
   ],
   "source": [
    "grid = gpd.GeoDataFrame({'geometry':geoms})\n",
    "geoms\n",
    "\n",
    "index = 1\n",
    "for sq in geoms:\n",
    "  xx, yy = sq.exterior.coords.xy\n",
    "  x = xx.tolist()\n",
    "  y = yy.tolist()\n",
    "  print(list(zip(x,y)))\n",
    "  url = descargar_imagen_landsat8(list(zip(x,y)), \"2018-01-01\",\"2019-01-01\", \"True Color\")\n",
    "  #print(url)\n",
    "\n",
    "grid.plot();"
   ]
  },
  {
   "cell_type": "code",
   "execution_count": 67,
   "metadata": {},
   "outputs": [
    {
     "data": {
      "image/png": "[encoded data removed]",
      "text/plain": [
       "<Figure size 640x480 with 1 Axes>"
      ]
     },
     "metadata": {},
     "output_type": "display_data"
    }
   ],
   "source": [
    "grid.plot();"
   ]
  },
  {
   "cell_type": "code",
   "execution_count": 49,
   "metadata": {},
   "outputs": [
    {
     "name": "stdout",
     "output_type": "stream",
     "text": [
      "([-73.15398858746755, -36.70643089922246], [-73.11974214276574, -36.70656852149412], [-73.12017129620828, -36.72363177314512], [-73.15707849225248, -36.72370056890712], [-73.15398858746755, -36.70643089922246])\n"
     ]
    }
   ],
   "source": [
    "coordenadas_lista = [[-73.15398858746755,-36.70643089922246],[-73.11974214276574,-36.70656852149412],[-73.12017129620828,-36.72363177314512],[-73.15707849225248,-36.72370056890712],[-73.15398858746755,-36.70643089922246]]\n",
    "\n",
    "coordenadas_tuplas = tuple(coordenadas_lista)\n",
    "\n",
    "print(coordenadas_tuplas)"
   ]
  }
 ],
 "metadata": {
  "kernelspec": {
   "display_name": "Python 3",
   "language": "python",
   "name": "python3"
  },
  "language_info": {
   "codemirror_mode": {
    "name": "ipython",
    "version": 3
   },
   "file_extension": ".py",
   "mimetype": "text/x-python",
   "name": "python",
   "nbconvert_exporter": "python",
   "pygments_lexer": "ipython3",
   "version": "3.9.17"
  },
  "orig_nbformat": 4
 },
 "nbformat": 4,
 "nbformat_minor": 2
}
