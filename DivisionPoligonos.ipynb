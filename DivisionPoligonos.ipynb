{
 "cells": [
  {
   "cell_type": "code",
   "execution_count": 122,
   "metadata": {},
   "outputs": [],
   "source": [
    "import numpy as np  # Importa la biblioteca NumPy bajo el alias 'np' para realizar cálculos numéricos.\n",
    "from shapely.ops import split  # Importa la función 'split' desde Shapely para realizar operaciones de división en geometrías.\n",
    "import geopandas as gpd  # Importa la biblioteca GeoPandas bajo el alias 'gpd' para el análisis de datos geoespaciales.\n",
    "from shapely.geometry import MultiPolygon, Polygon, LineString  # Importa varios tipos de geometrías desde Shapely para representar formas geométricas en el espacio.\n",
    "import ee\n",
    "import geojson"
   ]
  },
  {
   "cell_type": "code",
   "execution_count": 158,
   "metadata": {},
   "outputs": [],
   "source": [
    "def descargar_imagen_landsat8(geometry, fecha_inicio, fecha_fin, tipoImagen):\n",
    "  band = ['B4', 'B3', 'B2']\n",
    "\n",
    "  # Inicializar la API de Google Earth Engine\n",
    "  ee.Initialize()\n",
    "\n",
    "  # Definir la geometría\n",
    "  geometry = ee.Geometry.Polygon(\n",
    "    [geometry], None, False);\n",
    "  \n",
    "  IMGLandsat8 = ee.ImageCollection('LANDSAT/LC08/C02/T1_RT_TOA') \\\n",
    "      .filterDate(fecha_inicio, fecha_fin) \\\n",
    "      .filterBounds(geometry) \\\n",
    "      .filterMetadata('CLOUD_COVER', 'less_than', 20)\n",
    "\n",
    "  # Obtener la imagen mediana\n",
    "  Landsat8Filtro = IMGLandsat8.median()\n",
    "\n",
    "  # Recortar la imagen con la geometría\n",
    "  Landsat8Clip = Landsat8Filtro.clip(geometry)\n",
    "\n",
    "\n",
    "\n",
    "  imagenRGB = Landsat8Clip.visualize(**{'min': 0,'max': 0.5, 'bands': band})\n",
    "  extension = 'jpg'\n",
    "\n",
    "  url = imagenRGB.getThumbURL({ 'region': geometry, 'dimensions': 500, 'format': extension })\n",
    "  \n",
    "\n",
    "  return url"
   ]
  },
  {
   "cell_type": "code",
   "execution_count": 81,
   "metadata": {},
   "outputs": [],
   "source": [
    "# Ruta del archivo de datos geoespaciales (Shapefile) que se va a leer.\n",
    "geo_filepath = \"shapefiles/nombre_shapefile.shp\""
   ]
  },
  {
   "cell_type": "code",
   "execution_count": 82,
   "metadata": {},
   "outputs": [],
   "source": [
    "# Lee el archivo Shapefile especificado en 'geo_filepath' y lo carga en un GeoDataFrame (GeoDF).\n",
    "GeoDF = gpd.read_file(geo_filepath)\n"
   ]
  },
  {
   "cell_type": "code",
   "execution_count": 83,
   "metadata": {},
   "outputs": [
    {
     "data": {
      "image/svg+xml": [
       "<svg xmlns=\"http://www.w3.org/2000/svg\" xmlns:xlink=\"http://www.w3.org/1999/xlink\" width=\"100.0\" height=\"100.0\" viewBox=\"-73.13859194943284 -36.782066631791984 0.20356292724608238 0.08385973247450096\" preserveAspectRatio=\"xMinYMin meet\"><g transform=\"matrix(1,0,0,-1,0,-73.48027353110948)\"><path fill-rule=\"evenodd\" fill=\"#66cc99\" stroke=\"#555555\" stroke-width=\"0.004071258544921647\" opacity=\"0.6\" d=\"M -73.13105258175706,-36.705746266993266 L -72.94256838986253,-36.705746266993266 L -72.94256838986253,-36.7745272641162 L -73.13105258175706,-36.7745272641162 L -73.13105258175706,-36.705746266993266 z\" /></g></svg>"
      ],
      "text/plain": [
       "<POLYGON ((-73.131 -36.706, -72.943 -36.706, -72.943 -36.775, -73.131 -36.77...>"
      ]
     },
     "execution_count": 83,
     "metadata": {},
     "output_type": "execute_result"
    }
   ],
   "source": [
    "# Selecciona una geometría aleatoria del GeoDataFrame 'GeoDF' y almacénala en la variable 'G'.\n",
    "\n",
    "G = np.random.choice(GeoDF.geometry.values)\n",
    "G"
   ]
  },
  {
   "cell_type": "code",
   "execution_count": 84,
   "metadata": {},
   "outputs": [
    {
     "data": {
      "image/svg+xml": [
       "<svg xmlns=\"http://www.w3.org/2000/svg\" xmlns:xlink=\"http://www.w3.org/1999/xlink\" width=\"100.0\" height=\"100.0\" viewBox=\"-73.13859194943284 -36.782066631791984 0.20356292724608238 0.08385973247450096\" preserveAspectRatio=\"xMinYMin meet\"><g transform=\"matrix(1,0,0,-1,0,-73.48027353110948)\"><path fill-rule=\"evenodd\" fill=\"#66cc99\" stroke=\"#555555\" stroke-width=\"0.004071258544921647\" opacity=\"0.6\" d=\"M -73.13105258175706,-36.7745272641162 L -72.94256838986253,-36.7745272641162 L -72.94256838986253,-36.705746266993266 L -73.13105258175706,-36.705746266993266 L -73.13105258175706,-36.7745272641162 z\" /></g></svg>"
      ],
      "text/plain": [
       "<POLYGON ((-73.131 -36.775, -72.943 -36.775, -72.943 -36.706, -73.131 -36.70...>"
      ]
     },
     "execution_count": 84,
     "metadata": {},
     "output_type": "execute_result"
    }
   ],
   "source": [
    "# Calcula la envolvente (rectángulo delimitador) de la geometría almacenada en 'G' y almacena el resultado en 'Rectangle'.\n",
    "Rectangle = G.envelope\n",
    "Rectangle"
   ]
  },
  {
   "cell_type": "code",
   "execution_count": 93,
   "metadata": {},
   "outputs": [
    {
     "data": {
      "text/plain": [
       "(0.18848419189453125, 0.06878099712293562)"
      ]
     },
     "execution_count": 93,
     "metadata": {},
     "output_type": "execute_result"
    }
   ],
   "source": [
    "# Longitud del lado de la celda\n",
    "side_length = 0.08\n",
    "\n",
    "# Obtiene las coordenadas de la envolvente del rectángulo y las almacena en 'rect_coords'\n",
    "rect_coords = np.array(Rectangle.boundary.coords.xy)\n",
    "\n",
    "# Extrae las listas de coordenadas x e y de 'rect_coords'\n",
    "y_list = rect_coords[1]\n",
    "x_list = rect_coords[0]\n",
    "\n",
    "# Calcula los valores mínimos y máximos de las coordenadas y para obtener la altura del rectángulo\n",
    "y1 = min(y_list)\n",
    "y2 = max(y_list)\n",
    "\n",
    "# Calcula los valores mínimos y máximos de las coordenadas x para obtener el ancho del rectángulo\n",
    "x1 = min(x_list)\n",
    "x2 = max(x_list)\n",
    "\n",
    "# Calcula el ancho y la altura del rectángulo\n",
    "width = x2 - x1\n",
    "height = y2 - y1\n",
    "\n",
    "# Calcula el número de celdas en la dirección x e y, redondeando al entero más cercano\n",
    "xcells = int(np.round(width / side_length))\n",
    "ycells = int(np.round(height / side_length))\n",
    "\n",
    "# Crea una serie de índices igualmente espaciados en las direcciones x e y\n",
    "yindices = np.linspace(y1, y2, ycells + 1)\n",
    "xindices = np.linspace(x1, x2, xcells + 1)\n",
    "width,height\n"
   ]
  },
  {
   "cell_type": "code",
   "execution_count": 94,
   "metadata": {},
   "outputs": [
    {
     "data": {
      "text/plain": [
       "[<LINESTRING (-73.131 -36.775, -73.131 -36.706)>,\n",
       " <LINESTRING (-73.037 -36.775, -73.037 -36.706)>,\n",
       " <LINESTRING (-72.943 -36.775, -72.943 -36.706)>]"
      ]
     },
     "execution_count": 94,
     "metadata": {},
     "output_type": "execute_result"
    }
   ],
   "source": [
    "# Crea una lista de líneas horizontales que atraviesan el rectángulo delimitador en direcciones verticales.\n",
    "horizontal_splitters = [\n",
    "    LineString([(x, yindices[0]), (x, yindices[-1])]) for x in xindices\n",
    "]\n",
    "\n",
    "# Imprime la lista de líneas horizontales.\n",
    "horizontal_splitters"
   ]
  },
  {
   "cell_type": "code",
   "execution_count": 95,
   "metadata": {},
   "outputs": [
    {
     "data": {
      "text/plain": [
       "[<LINESTRING (-73.131 -36.775, -72.943 -36.775)>,\n",
       " <LINESTRING (-73.131 -36.706, -72.943 -36.706)>]"
      ]
     },
     "execution_count": 95,
     "metadata": {},
     "output_type": "execute_result"
    }
   ],
   "source": [
    "# Crea una lista de líneas verticales que atraviesan el rectángulo delimitador en direcciones horizontales.\n",
    "vertical_splitters = [\n",
    "    LineString([(xindices[0], y), (xindices[-1], y)]) for y in yindices\n",
    "]\n",
    "\n",
    "# Imprime la lista de líneas verticales.\n",
    "vertical_splitters"
   ]
  },
  {
   "cell_type": "code",
   "execution_count": 96,
   "metadata": {},
   "outputs": [
    {
     "data": {
      "image/svg+xml": [
       "<svg xmlns=\"http://www.w3.org/2000/svg\" xmlns:xlink=\"http://www.w3.org/1999/xlink\" width=\"100.0\" height=\"100.0\" viewBox=\"-73.13859194943284 -36.782066631791984 0.20356292724608238 0.08385973247450096\" preserveAspectRatio=\"xMinYMin meet\"><g transform=\"matrix(1,0,0,-1,0,-73.48027353110948)\"><path fill-rule=\"evenodd\" fill=\"#66cc99\" stroke=\"#555555\" stroke-width=\"0.004071258544921647\" opacity=\"0.6\" d=\"M -73.13105258175706,-36.7745272641162 L -72.94256838986253,-36.7745272641162 L -72.94256838986253,-36.705746266993266 L -73.13105258175706,-36.705746266993266 L -73.13105258175706,-36.7745272641162 z\" /></g></svg>"
      ],
      "text/plain": [
       "<POLYGON ((-73.131 -36.775, -72.943 -36.775, -72.943 -36.706, -73.131 -36.70...>"
      ]
     },
     "execution_count": 96,
     "metadata": {},
     "output_type": "execute_result"
    }
   ],
   "source": [
    "# Asigna la geometría del rectángulo delimitador original a la variable 'result'.\n",
    "result = Rectangle\n",
    "\n",
    "# Imprime 'result', que ahora contiene la misma geometría que 'Rectangle'.\n",
    "result"
   ]
  },
  {
   "cell_type": "code",
   "execution_count": 97,
   "metadata": {},
   "outputs": [
    {
     "data": {
      "image/svg+xml": [
       "<svg xmlns=\"http://www.w3.org/2000/svg\" xmlns:xlink=\"http://www.w3.org/1999/xlink\" width=\"100.0\" height=\"100.0\" viewBox=\"-73.13859194943284 -36.782066631791984 0.20356292724608238 0.08385973247450096\" preserveAspectRatio=\"xMinYMin meet\"><g transform=\"matrix(1,0,0,-1,0,-73.48027353110948)\"><g><path fill-rule=\"evenodd\" fill=\"#66cc99\" stroke=\"#555555\" stroke-width=\"0.004071258544921647\" opacity=\"0.6\" d=\"M -72.94256838986253,-36.7745272641162 L -73.13105258175706,-36.7745272641162 L -73.13105258175706,-36.705746266993266 L -72.94256838986253,-36.705746266993266 L -72.94256838986253,-36.7745272641162 z\" /></g></g></svg>"
      ],
      "text/plain": [
       "<MULTIPOLYGON (((-72.943 -36.775, -73.131 -36.775, -73.131 -36.706, -72.943 ...>"
      ]
     },
     "execution_count": 97,
     "metadata": {},
     "output_type": "execute_result"
    }
   ],
   "source": [
    "# Itera sobre la lista de líneas verticales 'vertical_splitters' y divide la geometría 'result' en múltiples polígonos.\n",
    "for splitter in vertical_splitters:\n",
    "    result = MultiPolygon(split(result, splitter))\n",
    "\n",
    "# Imprime 'result', que ahora contiene los polígonos resultantes después de la división.\n",
    "result"
   ]
  },
  {
   "cell_type": "code",
   "execution_count": 98,
   "metadata": {},
   "outputs": [
    {
     "name": "stdout",
     "output_type": "stream",
     "text": [
      "hola\n",
      "hola\n",
      "hola\n"
     ]
    },
    {
     "data": {
      "image/svg+xml": [
       "<svg xmlns=\"http://www.w3.org/2000/svg\" xmlns:xlink=\"http://www.w3.org/1999/xlink\" width=\"100.0\" height=\"100.0\" viewBox=\"-73.13859194943284 -36.782066631791984 0.20356292724608238 0.08385973247450096\" preserveAspectRatio=\"xMinYMin meet\"><g transform=\"matrix(1,0,0,-1,0,-73.48027353110948)\"><g><path fill-rule=\"evenodd\" fill=\"#ff3333\" stroke=\"#555555\" stroke-width=\"0.004071258544921647\" opacity=\"0.6\" d=\"M -72.94256838986253,-36.7745272641162 L -73.0368104858098,-36.7745272641162 L -73.0368104858098,-36.705746266993266 L -72.94256838986253,-36.705746266993266 L -72.94256838986253,-36.7745272641162 z\" /><path fill-rule=\"evenodd\" fill=\"#ff3333\" stroke=\"#555555\" stroke-width=\"0.004071258544921647\" opacity=\"0.6\" d=\"M -73.0368104858098,-36.7745272641162 L -73.13105258175706,-36.7745272641162 L -73.13105258175706,-36.705746266993266 L -73.0368104858098,-36.705746266993266 L -73.0368104858098,-36.7745272641162 z\" /></g></g></svg>"
      ],
      "text/plain": [
       "<MULTIPOLYGON (((-72.943 -36.775, -73.037 -36.775, -73.037 -36.706, -72.943 ...>"
      ]
     },
     "execution_count": 98,
     "metadata": {},
     "output_type": "execute_result"
    }
   ],
   "source": [
    "# Itera sobre la lista de líneas horizontales 'horizontal_splitters' y divide la geometría 'result' en múltiples polígonos.\n",
    "for splitter in horizontal_splitters:\n",
    "    result = MultiPolygon(split(result, splitter))\n",
    "    print(\"hola\")\n",
    "\n",
    "# Imprime 'result', que ahora contiene los polígonos resultantes después de la división horizontal y vertical.\n",
    "result"
   ]
  },
  {
   "cell_type": "code",
   "execution_count": 159,
   "metadata": {},
   "outputs": [
    {
     "name": "stdout",
     "output_type": "stream",
     "text": [
      "[(-72.94256838986253, -36.7745272641162), (-73.0368104858098, -36.7745272641162), (-73.0368104858098, -36.705746266993266), (-72.94256838986253, -36.705746266993266), (-72.94256838986253, -36.7745272641162)]\n",
      "https://earthengine.googleapis.com/v1/projects/earthengine-legacy/thumbnails/a113b2a37c3b555f940d1783b74f086b-ec1441f1081dbbc725ae57a2b31e5f52:getPixels\n",
      "[(-73.0368104858098, -36.7745272641162), (-73.13105258175706, -36.7745272641162), (-73.13105258175706, -36.705746266993266), (-73.0368104858098, -36.705746266993266), (-73.0368104858098, -36.7745272641162)]\n",
      "https://earthengine.googleapis.com/v1/projects/earthengine-legacy/thumbnails/e7d88605bbdb1a4fd61ddd2f1670ac6d-7596456a675bf5e7686fc706a50007e2:getPixels\n"
     ]
    }
   ],
   "source": [
    "# Extrae los polígonos individuales del resultado final 'result' y los almacena en la lista 'square_polygons'.\n",
    "square_polygons = list(result.geoms)\n",
    "\n",
    "# Imprime 'square_polygons', que ahora contiene los polígonos individuales resultantes.\n",
    "for sq in square_polygons:\n",
    "  sq\n",
    "\n",
    "square_polygons\n",
    "\n",
    "for sq in square_polygons:\n",
    "  xx, yy = sq.exterior.coords.xy\n",
    "  x = xx.tolist()\n",
    "  y = yy.tolist()\n",
    "  print(list(zip(x,y)))\n",
    "  url = descargar_imagen_landsat8(list(zip(x,y)), \"2018-01-01\",\"2019-01-01\", \"True Color\")\n",
    "  print(url)\n",
    "\n",
    "# Note above return values are of type `array.array` \n"
   ]
  },
  {
   "cell_type": "code",
   "execution_count": null,
   "metadata": {},
   "outputs": [],
   "source": [
    "import geojson\n",
    "from shapely.geometry import Polygon\n",
    "\n",
    "# Lista de polígonos Shapely\n",
    "shapely_polygons = [\n",
    "    Polygon([(-72.943, -36.775), (-73.037, -36.775), (-73.037, -36.706), (-72.943, -36.706)]),\n",
    "    Polygon([(-73.037, -36.775), (-73.131, -36.775), (-73.131, -36.706), (-73.037, -36.706)])\n",
    "]\n",
    "\n",
    "# Convierte los polígonos a objetos GeoJSON\n",
    "geojson_polygons = []\n",
    "for shapely_polygon in shapely_polygons:\n",
    "    geojson_polygon = geojson.Feature(geometry=shapely_polygon, properties={})\n",
    "    geojson_polygons.append(geojson_polygon)\n",
    "\n",
    "# Convierte la lista de GeoJSON a una cadena GeoJSON\n",
    "geojson_string = geojson.dumps(geojson.FeatureCollection(geojson_polygons))\n",
    "\n",
    "# Imprime la cadena GeoJSON\n",
    "print(geojson_string)"
   ]
  },
  {
   "cell_type": "code",
   "execution_count": 100,
   "metadata": {},
   "outputs": [],
   "source": [
    "# Crea un GeoDataFrame a partir de la lista de polígonos 'square_polygons'.\n",
    "df = gpd.GeoDataFrame(square_polygons)\n"
   ]
  },
  {
   "cell_type": "code",
   "execution_count": 101,
   "metadata": {},
   "outputs": [],
   "source": [
    "# Crea un nuevo GeoDataFrame a partir de la lista de polígonos 'square_polygons'.\n",
    "SquareGeoDF  = gpd.GeoDataFrame(square_polygons).rename(columns={0: \"geometry\"})"
   ]
  },
  {
   "cell_type": "code",
   "execution_count": 102,
   "metadata": {},
   "outputs": [],
   "source": [
    "# Crea un nuevo GeoDataFrame a partir de la lista de polígonos 'square_polygons'.\n",
    "SquareGeoDF = gpd.GeoDataFrame(square_polygons)\n",
    "\n",
    "# Establece la geometría del GeoDataFrame en la primera columna (índice 0) de los datos.\n",
    "SquareGeoDF = SquareGeoDF.set_geometry(0)\n"
   ]
  },
  {
   "cell_type": "code",
   "execution_count": 108,
   "metadata": {},
   "outputs": [],
   "source": [
    "# Extrae las geometrías de 'SquareGeoDF' que se intersectan con la geometría 'G' y las almacena en 'Geoms'.\n",
    "Geoms = SquareGeoDF[SquareGeoDF.intersects(G)].geometry.values\n",
    "\n",
    "# Define una variable 'shape' con el valor \"square\".\n",
    "shape = \"square\"\n",
    "\n",
    "# Define una variable 'thresh' con el valor 0.9.\n",
    "thresh = 0.2"
   ]
  },
  {
   "cell_type": "code",
   "execution_count": 109,
   "metadata": {},
   "outputs": [
    {
     "data": {
      "text/plain": [
       "[<POLYGON ((-72.943 -36.775, -73.037 -36.775, -73.037 -36.706, -72.943 -36.70...>,\n",
       " <POLYGON ((-73.037 -36.775, -73.131 -36.775, -73.131 -36.706, -73.037 -36.70...>]"
      ]
     },
     "execution_count": 109,
     "metadata": {},
     "output_type": "execute_result"
    }
   ],
   "source": [
    "# Si la variable 'shape' es igual a \"rhombus\", realiza las siguientes operaciones.\n",
    "if shape == \"rhombus\":\n",
    "    # Aplica una función 'rhombus(g)' a cada geometría en 'Geoms' y almacena los resultados en 'Geoms'.\n",
    "    #Geoms = [rhombus(g) for g in Geoms]\n",
    "    # Filtra las geometrías en 'Geoms' que cumplen con una condición de área y las almacena en 'geoms'.\n",
    "    geoms = [g for g in Geoms if ((g.intersection(G)).area / g.area) >= thresh]\n",
    "\n",
    "# Si la variable 'shape' es igual a \"square\", realiza las siguientes operaciones.\n",
    "elif shape == \"square\":\n",
    "   \n",
    "    # Filtra las geometrías en 'Geoms' que cumplen con una condición de área y las almacena en 'geoms'.\n",
    "    geoms = [g for g in Geoms if ((g.intersection(G)).area / g.area) >= thresh]\n",
    "\n",
    "geoms"
   ]
  },
  {
   "cell_type": "code",
   "execution_count": 110,
   "metadata": {},
   "outputs": [
    {
     "data": {
      "image/svg+xml": [
       "<svg xmlns=\"http://www.w3.org/2000/svg\" xmlns:xlink=\"http://www.w3.org/1999/xlink\" width=\"100.0\" height=\"100.0\" viewBox=\"-73.13859194943284 -36.782066631791984 0.20356292724608238 0.08385973247450096\" preserveAspectRatio=\"xMinYMin meet\"><g transform=\"matrix(1,0,0,-1,0,-73.48027353110948)\"><path fill-rule=\"evenodd\" fill=\"#66cc99\" stroke=\"#555555\" stroke-width=\"0.004071258544921647\" opacity=\"0.6\" d=\"M -73.13105258175706,-36.7745272641162 L -72.94256838986253,-36.7745272641162 L -72.94256838986253,-36.705746266993266 L -73.13105258175706,-36.705746266993266 L -73.13105258175706,-36.7745272641162 z\" /></g></svg>"
      ],
      "text/plain": [
       "<POLYGON ((-73.131 -36.775, -72.943 -36.775, -72.943 -36.706, -73.131 -36.70...>"
      ]
     },
     "execution_count": 110,
     "metadata": {},
     "output_type": "execute_result"
    }
   ],
   "source": [
    "Rectangle"
   ]
  },
  {
   "cell_type": "code",
   "execution_count": 111,
   "metadata": {},
   "outputs": [
    {
     "data": {
      "image/svg+xml": [
       "<svg xmlns=\"http://www.w3.org/2000/svg\" xmlns:xlink=\"http://www.w3.org/1999/xlink\" width=\"100.0\" height=\"100.0\" viewBox=\"-73.13859194943284 -36.782066631791984 0.20356292724608238 0.08385973247450096\" preserveAspectRatio=\"xMinYMin meet\"><g transform=\"matrix(1,0,0,-1,0,-73.48027353110948)\"><path fill-rule=\"evenodd\" fill=\"#66cc99\" stroke=\"#555555\" stroke-width=\"0.004071258544921647\" opacity=\"0.6\" d=\"M -73.13105258175706,-36.705746266993266 L -72.94256838986253,-36.705746266993266 L -72.94256838986253,-36.7745272641162 L -73.13105258175706,-36.7745272641162 L -73.13105258175706,-36.705746266993266 z\" /></g></svg>"
      ],
      "text/plain": [
       "<POLYGON ((-73.131 -36.706, -72.943 -36.706, -72.943 -36.775, -73.131 -36.77...>"
      ]
     },
     "execution_count": 111,
     "metadata": {},
     "output_type": "execute_result"
    }
   ],
   "source": [
    "G"
   ]
  },
  {
   "cell_type": "code",
   "execution_count": 112,
   "metadata": {},
   "outputs": [
    {
     "data": {
      "text/plain": [
       "[<POLYGON ((-72.943 -36.775, -73.037 -36.775, -73.037 -36.706, -72.943 -36.70...>,\n",
       " <POLYGON ((-73.037 -36.775, -73.131 -36.775, -73.131 -36.706, -73.037 -36.70...>]"
      ]
     },
     "execution_count": 112,
     "metadata": {},
     "output_type": "execute_result"
    }
   ],
   "source": [
    "grid = gpd.GeoDataFrame({'geometry':geoms})\n",
    "geoms"
   ]
  },
  {
   "cell_type": "code",
   "execution_count": 113,
   "metadata": {},
   "outputs": [
    {
     "data": {
      "image/png": "[encoded data removed]",
      "text/plain": [
       "<Figure size 640x480 with 1 Axes>"
      ]
     },
     "metadata": {},
     "output_type": "display_data"
    }
   ],
   "source": [
    "grid.plot();"
   ]
  },
  {
   "cell_type": "code",
   "execution_count": 114,
   "metadata": {},
   "outputs": [
    {
     "name": "stdout",
     "output_type": "stream",
     "text": [
      "([-73.15398858746755, -36.70643089922246], [-73.11974214276574, -36.70656852149412], [-73.12017129620828, -36.72363177314512], [-73.15707849225248, -36.72370056890712], [-73.15398858746755, -36.70643089922246])\n"
     ]
    }
   ],
   "source": [
    "coordenadas_lista = [[-73.15398858746755,-36.70643089922246],[-73.11974214276574,-36.70656852149412],[-73.12017129620828,-36.72363177314512],[-73.15707849225248,-36.72370056890712],[-73.15398858746755,-36.70643089922246]]\n",
    "\n",
    "coordenadas_tuplas = tuple(coordenadas_lista)\n",
    "\n",
    "print(coordenadas_tuplas)"
   ]
  }
 ],
 "metadata": {
  "kernelspec": {
   "display_name": "Python 3",
   "language": "python",
   "name": "python3"
  },
  "language_info": {
   "codemirror_mode": {
    "name": "ipython",
    "version": 3
   },
   "file_extension": ".py",
   "mimetype": "text/x-python",
   "name": "python",
   "nbconvert_exporter": "python",
   "pygments_lexer": "ipython3",
   "version": "3.9.17"
  },
  "orig_nbformat": 4
 },
 "nbformat": 4,
 "nbformat_minor": 2
}
