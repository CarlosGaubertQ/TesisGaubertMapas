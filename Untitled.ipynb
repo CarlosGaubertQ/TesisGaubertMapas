{
 "cells": [
  {
   "cell_type": "code",
   "execution_count": 5,
   "id": "4ed9243f",
   "metadata": {},
   "outputs": [
    {
     "name": "stdout",
     "output_type": "stream",
     "text": [
      "Collecting earthengine-api\n",
      "  Downloading earthengine-api-0.1.364.tar.gz (246 kB)\n",
      "\u001b[2K     \u001b[38;2;114;156;31m━━━━━━━━━━━━━━━━━━━━━━━━━━━━━━━━━━━━━━━\u001b[0m \u001b[32m246.8/246.8 kB\u001b[0m \u001b[31m2.9 MB/s\u001b[0m eta \u001b[36m0:00:00\u001b[0mm eta \u001b[36m0:00:01\u001b[0m[36m0:00:01\u001b[0m\n",
      "\u001b[?25h  Preparing metadata (setup.py) ... \u001b[?25ldone\n",
      "\u001b[?25hCollecting google-cloud-storage\n",
      "  Using cached google_cloud_storage-2.10.0-py2.py3-none-any.whl (114 kB)\n",
      "Collecting google-api-python-client>=1.12.1\n",
      "  Downloading google_api_python_client-2.97.0-py2.py3-none-any.whl (12.0 MB)\n",
      "\u001b[2K     \u001b[38;2;114;156;31m━━━━━━━━━━━━━━━━━━━━━━━━━━━━━━━━━━━━━━━━\u001b[0m \u001b[32m12.0/12.0 MB\u001b[0m \u001b[31m11.1 MB/s\u001b[0m eta \u001b[36m0:00:00\u001b[0mm eta \u001b[36m0:00:01\u001b[0m[36m0:00:01\u001b[0m\n",
      "\u001b[?25hCollecting google-auth>=1.4.1\n",
      "  Downloading google_auth-2.22.0-py2.py3-none-any.whl (181 kB)\n",
      "\u001b[2K     \u001b[38;2;114;156;31m━━━━━━━━━━━━━━━━━━━━━━━━━━━━━━━━━━━━━━\u001b[0m \u001b[32m181.8/181.8 kB\u001b[0m \u001b[31m13.0 MB/s\u001b[0m eta \u001b[36m0:00:00\u001b[0m\n",
      "\u001b[?25hCollecting google-auth-httplib2>=0.0.3\n",
      "  Using cached google_auth_httplib2-0.1.0-py2.py3-none-any.whl (9.3 kB)\n",
      "Collecting httplib2<1dev,>=0.9.2\n",
      "  Using cached httplib2-0.22.0-py3-none-any.whl (96 kB)\n",
      "Requirement already satisfied: requests in /Users/carlosgaubert/anaconda3/lib/python3.9/site-packages (from earthengine-api) (2.28.1)\n",
      "Collecting google-api-core!=2.0.*,!=2.1.*,!=2.2.*,!=2.3.0,<3.0.0.dev0,>=1.31.5\n",
      "  Using cached google_api_core-2.11.1-py3-none-any.whl (120 kB)\n",
      "Collecting uritemplate<5,>=3.0.1\n",
      "  Using cached uritemplate-4.1.1-py2.py3-none-any.whl (10 kB)\n",
      "Collecting rsa<5,>=3.1.4\n",
      "  Using cached rsa-4.9-py3-none-any.whl (34 kB)\n",
      "Requirement already satisfied: urllib3<2.0 in /Users/carlosgaubert/anaconda3/lib/python3.9/site-packages (from google-auth>=1.4.1->earthengine-api) (1.26.11)\n",
      "Requirement already satisfied: six>=1.9.0 in /Users/carlosgaubert/anaconda3/lib/python3.9/site-packages (from google-auth>=1.4.1->earthengine-api) (1.16.0)\n",
      "Requirement already satisfied: pyasn1-modules>=0.2.1 in /Users/carlosgaubert/anaconda3/lib/python3.9/site-packages (from google-auth>=1.4.1->earthengine-api) (0.2.8)\n",
      "Collecting cachetools<6.0,>=2.0.0\n",
      "  Using cached cachetools-5.3.1-py3-none-any.whl (9.3 kB)\n",
      "Requirement already satisfied: pyparsing!=3.0.0,!=3.0.1,!=3.0.2,!=3.0.3,<4,>=2.4.2 in /Users/carlosgaubert/anaconda3/lib/python3.9/site-packages (from httplib2<1dev,>=0.9.2->earthengine-api) (3.0.9)\n",
      "Collecting google-resumable-media>=2.3.2\n",
      "  Using cached google_resumable_media-2.5.0-py2.py3-none-any.whl (77 kB)\n",
      "Collecting google-cloud-core<3.0dev,>=2.3.0\n",
      "  Using cached google_cloud_core-2.3.3-py2.py3-none-any.whl (29 kB)\n",
      "Requirement already satisfied: charset-normalizer<3,>=2 in /Users/carlosgaubert/anaconda3/lib/python3.9/site-packages (from requests->earthengine-api) (2.0.4)\n",
      "Requirement already satisfied: idna<4,>=2.5 in /Users/carlosgaubert/anaconda3/lib/python3.9/site-packages (from requests->earthengine-api) (3.3)\n",
      "Requirement already satisfied: certifi>=2017.4.17 in /Users/carlosgaubert/anaconda3/lib/python3.9/site-packages (from requests->earthengine-api) (2022.9.24)\n",
      "Collecting protobuf!=3.20.0,!=3.20.1,!=4.21.0,!=4.21.1,!=4.21.2,!=4.21.3,!=4.21.4,!=4.21.5,<5.0.0.dev0,>=3.19.5\n",
      "  Downloading protobuf-4.24.0-cp37-abi3-macosx_10_9_universal2.whl (409 kB)\n",
      "\u001b[2K     \u001b[38;2;114;156;31m━━━━━━━━━━━━━━━━━━━━━━━━━━━━━━━━━━━━━━\u001b[0m \u001b[32m409.6/409.6 kB\u001b[0m \u001b[31m46.7 MB/s\u001b[0m eta \u001b[36m0:00:00\u001b[0m[36m0:00:01\u001b[0m\n",
      "\u001b[?25hCollecting googleapis-common-protos<2.0.dev0,>=1.56.2\n",
      "  Downloading googleapis_common_protos-1.60.0-py2.py3-none-any.whl (227 kB)\n",
      "\u001b[2K     \u001b[38;2;114;156;31m━━━━━━━━━━━━━━━━━━━━━━━━━━━━━━━━━━━━━━━\u001b[0m \u001b[32m227.6/227.6 kB\u001b[0m \u001b[31m8.8 MB/s\u001b[0m eta \u001b[36m0:00:00\u001b[0m\n",
      "\u001b[?25hCollecting google-crc32c<2.0dev,>=1.0\n",
      "  Using cached google_crc32c-1.5.0-cp39-cp39-macosx_10_9_universal2.whl (32 kB)\n",
      "Requirement already satisfied: pyasn1<0.5.0,>=0.4.6 in /Users/carlosgaubert/anaconda3/lib/python3.9/site-packages (from pyasn1-modules>=0.2.1->google-auth>=1.4.1->earthengine-api) (0.4.8)\n",
      "Building wheels for collected packages: earthengine-api\n",
      "  Building wheel for earthengine-api (setup.py) ... \u001b[?25ldone\n",
      "\u001b[?25h  Created wheel for earthengine-api: filename=earthengine_api-0.1.364-py3-none-any.whl size=275982 sha256=6f5f59bcbc2086546e2944852da821ca925bf7beefd34847f8083f1da588a200\n",
      "  Stored in directory: /Users/carlosgaubert/Library/Caches/pip/wheels/01/4d/a9/925de56e69ef86398e9ab77a1d03b496d3abb81224c1d0571d\n",
      "Successfully built earthengine-api\n",
      "Installing collected packages: uritemplate, rsa, protobuf, httplib2, google-crc32c, cachetools, googleapis-common-protos, google-resumable-media, google-auth, google-auth-httplib2, google-api-core, google-cloud-core, google-api-python-client, google-cloud-storage, earthengine-api\n",
      "Successfully installed cachetools-5.3.1 earthengine-api-0.1.364 google-api-core-2.11.1 google-api-python-client-2.97.0 google-auth-2.22.0 google-auth-httplib2-0.1.0 google-cloud-core-2.3.3 google-cloud-storage-2.10.0 google-crc32c-1.5.0 google-resumable-media-2.5.0 googleapis-common-protos-1.60.0 httplib2-0.22.0 protobuf-4.24.0 rsa-4.9 uritemplate-4.1.1\n",
      "Note: you may need to restart the kernel to use updated packages.\n"
     ]
    }
   ],
   "source": [
    "pip install earthengine-api"
   ]
  },
  {
   "cell_type": "code",
   "execution_count": 2,
   "id": "ac40e9e7",
   "metadata": {},
   "outputs": [],
   "source": [
    "import ee"
   ]
  },
  {
   "cell_type": "code",
   "execution_count": 9,
   "id": "9ac32495",
   "metadata": {},
   "outputs": [
    {
     "name": "stdout",
     "output_type": "stream",
     "text": [
      "Collecting geemap\n",
      "  Using cached geemap-0.25.0-py2.py3-none-any.whl (2.2 MB)\n",
      "Collecting geocoder\n",
      "  Using cached geocoder-1.38.1-py2.py3-none-any.whl (98 kB)\n",
      "Requirement already satisfied: earthengine-api>=0.1.347 in /Users/carlosgaubert/anaconda3/lib/python3.9/site-packages (from geemap) (0.1.364)\n",
      "Collecting pyperclip\n",
      "  Using cached pyperclip-1.8.2-py3-none-any.whl\n",
      "Requirement already satisfied: numpy in /Users/carlosgaubert/anaconda3/lib/python3.9/site-packages (from geemap) (1.21.5)\n",
      "Collecting ipyleaflet>=0.17.0\n",
      "  Using cached ipyleaflet-0.17.3-py3-none-any.whl (3.4 MB)\n",
      "Requirement already satisfied: pandas in /Users/carlosgaubert/anaconda3/lib/python3.9/site-packages (from geemap) (1.4.4)\n",
      "Collecting ipytree\n",
      "  Using cached ipytree-0.2.2-py2.py3-none-any.whl (1.3 MB)\n",
      "Collecting colour\n",
      "  Using cached colour-0.1.5-py2.py3-none-any.whl (23 kB)\n",
      "Collecting ipyfilechooser>=0.6.0\n",
      "  Using cached ipyfilechooser-0.6.0-py3-none-any.whl (11 kB)\n",
      "Collecting ipyevents\n",
      "  Using cached ipyevents-2.0.1-py2.py3-none-any.whl (130 kB)\n",
      "Collecting pyshp>=2.1.3\n",
      "  Using cached pyshp-2.3.1-py2.py3-none-any.whl (46 kB)\n",
      "Requirement already satisfied: matplotlib in /Users/carlosgaubert/anaconda3/lib/python3.9/site-packages (from geemap) (3.5.2)\n",
      "Collecting scooby\n",
      "  Using cached scooby-0.7.2-py3-none-any.whl (16 kB)\n",
      "Requirement already satisfied: plotly in /Users/carlosgaubert/anaconda3/lib/python3.9/site-packages (from geemap) (5.9.0)\n",
      "Collecting folium>=0.13.0\n",
      "  Using cached folium-0.14.0-py2.py3-none-any.whl (102 kB)\n",
      "Collecting python-box\n",
      "  Using cached python_box-7.0.1-py3-none-any.whl (28 kB)\n",
      "Collecting eerepr>=0.0.4\n",
      "  Using cached eerepr-0.0.4-py3-none-any.whl (9.7 kB)\n",
      "Collecting bqplot\n",
      "  Using cached bqplot-0.12.40-py2.py3-none-any.whl (1.2 MB)\n",
      "Requirement already satisfied: requests in /Users/carlosgaubert/anaconda3/lib/python3.9/site-packages (from earthengine-api>=0.1.347->geemap) (2.28.1)\n",
      "Requirement already satisfied: google-auth>=1.4.1 in /Users/carlosgaubert/anaconda3/lib/python3.9/site-packages (from earthengine-api>=0.1.347->geemap) (2.22.0)\n",
      "Requirement already satisfied: google-api-python-client>=1.12.1 in /Users/carlosgaubert/anaconda3/lib/python3.9/site-packages (from earthengine-api>=0.1.347->geemap) (2.97.0)\n",
      "Requirement already satisfied: google-cloud-storage in /Users/carlosgaubert/anaconda3/lib/python3.9/site-packages (from earthengine-api>=0.1.347->geemap) (2.10.0)\n",
      "Requirement already satisfied: google-auth-httplib2>=0.0.3 in /Users/carlosgaubert/anaconda3/lib/python3.9/site-packages (from earthengine-api>=0.1.347->geemap) (0.1.0)\n",
      "Requirement already satisfied: httplib2<1dev,>=0.9.2 in /Users/carlosgaubert/anaconda3/lib/python3.9/site-packages (from earthengine-api>=0.1.347->geemap) (0.22.0)\n",
      "Requirement already satisfied: jinja2>=2.9 in /Users/carlosgaubert/anaconda3/lib/python3.9/site-packages (from folium>=0.13.0->geemap) (2.11.3)\n",
      "Collecting branca>=0.6.0\n",
      "  Using cached branca-0.6.0-py3-none-any.whl (24 kB)\n",
      "Requirement already satisfied: ipywidgets in /Users/carlosgaubert/anaconda3/lib/python3.9/site-packages (from ipyfilechooser>=0.6.0->geemap) (7.6.5)\n",
      "Collecting xyzservices>=2021.8.1\n",
      "  Using cached xyzservices-2023.7.0-py3-none-any.whl (56 kB)\n",
      "Collecting traittypes<3,>=0.2.1\n",
      "  Using cached traittypes-0.2.1-py2.py3-none-any.whl (8.6 kB)\n",
      "Requirement already satisfied: traitlets>=4.3.0 in /Users/carlosgaubert/anaconda3/lib/python3.9/site-packages (from bqplot->geemap) (5.1.1)\n",
      "Requirement already satisfied: python-dateutil>=2.8.1 in /Users/carlosgaubert/anaconda3/lib/python3.9/site-packages (from pandas->geemap) (2.8.2)\n",
      "Requirement already satisfied: pytz>=2020.1 in /Users/carlosgaubert/anaconda3/lib/python3.9/site-packages (from pandas->geemap) (2022.1)\n",
      "Requirement already satisfied: six in /Users/carlosgaubert/anaconda3/lib/python3.9/site-packages (from geocoder->geemap) (1.16.0)\n",
      "Collecting ratelim\n",
      "  Using cached ratelim-0.1.6-py2.py3-none-any.whl (4.0 kB)\n",
      "Requirement already satisfied: future in /Users/carlosgaubert/anaconda3/lib/python3.9/site-packages (from geocoder->geemap) (0.18.2)\n",
      "Requirement already satisfied: click in /Users/carlosgaubert/anaconda3/lib/python3.9/site-packages (from geocoder->geemap) (8.0.4)\n",
      "Requirement already satisfied: fonttools>=4.22.0 in /Users/carlosgaubert/anaconda3/lib/python3.9/site-packages (from matplotlib->geemap) (4.25.0)\n",
      "Requirement already satisfied: pillow>=6.2.0 in /Users/carlosgaubert/anaconda3/lib/python3.9/site-packages (from matplotlib->geemap) (9.2.0)\n",
      "Requirement already satisfied: packaging>=20.0 in /Users/carlosgaubert/anaconda3/lib/python3.9/site-packages (from matplotlib->geemap) (21.3)\n",
      "Requirement already satisfied: cycler>=0.10 in /Users/carlosgaubert/anaconda3/lib/python3.9/site-packages (from matplotlib->geemap) (0.11.0)\n",
      "Requirement already satisfied: pyparsing>=2.2.1 in /Users/carlosgaubert/anaconda3/lib/python3.9/site-packages (from matplotlib->geemap) (3.0.9)\n",
      "Requirement already satisfied: kiwisolver>=1.0.1 in /Users/carlosgaubert/anaconda3/lib/python3.9/site-packages (from matplotlib->geemap) (1.4.2)\n",
      "Requirement already satisfied: tenacity>=6.2.0 in /Users/carlosgaubert/anaconda3/lib/python3.9/site-packages (from plotly->geemap) (8.0.1)\n",
      "Requirement already satisfied: google-api-core!=2.0.*,!=2.1.*,!=2.2.*,!=2.3.0,<3.0.0.dev0,>=1.31.5 in /Users/carlosgaubert/anaconda3/lib/python3.9/site-packages (from google-api-python-client>=1.12.1->earthengine-api>=0.1.347->geemap) (2.11.1)\n",
      "Requirement already satisfied: uritemplate<5,>=3.0.1 in /Users/carlosgaubert/anaconda3/lib/python3.9/site-packages (from google-api-python-client>=1.12.1->earthengine-api>=0.1.347->geemap) (4.1.1)\n",
      "Requirement already satisfied: urllib3<2.0 in /Users/carlosgaubert/anaconda3/lib/python3.9/site-packages (from google-auth>=1.4.1->earthengine-api>=0.1.347->geemap) (1.26.11)\n",
      "Requirement already satisfied: cachetools<6.0,>=2.0.0 in /Users/carlosgaubert/anaconda3/lib/python3.9/site-packages (from google-auth>=1.4.1->earthengine-api>=0.1.347->geemap) (5.3.1)\n",
      "Requirement already satisfied: pyasn1-modules>=0.2.1 in /Users/carlosgaubert/anaconda3/lib/python3.9/site-packages (from google-auth>=1.4.1->earthengine-api>=0.1.347->geemap) (0.2.8)\n",
      "Requirement already satisfied: rsa<5,>=3.1.4 in /Users/carlosgaubert/anaconda3/lib/python3.9/site-packages (from google-auth>=1.4.1->earthengine-api>=0.1.347->geemap) (4.9)\n",
      "Requirement already satisfied: jupyterlab-widgets>=1.0.0 in /Users/carlosgaubert/anaconda3/lib/python3.9/site-packages (from ipywidgets->ipyfilechooser>=0.6.0->geemap) (1.0.0)\n",
      "Requirement already satisfied: ipykernel>=4.5.1 in /Users/carlosgaubert/anaconda3/lib/python3.9/site-packages (from ipywidgets->ipyfilechooser>=0.6.0->geemap) (6.15.2)\n",
      "Requirement already satisfied: ipython>=4.0.0 in /Users/carlosgaubert/anaconda3/lib/python3.9/site-packages (from ipywidgets->ipyfilechooser>=0.6.0->geemap) (8.4.0)\n",
      "Requirement already satisfied: ipython-genutils~=0.2.0 in /Users/carlosgaubert/anaconda3/lib/python3.9/site-packages (from ipywidgets->ipyfilechooser>=0.6.0->geemap) (0.2.0)\n",
      "Requirement already satisfied: widgetsnbextension~=3.5.0 in /Users/carlosgaubert/anaconda3/lib/python3.9/site-packages (from ipywidgets->ipyfilechooser>=0.6.0->geemap) (3.5.2)\n",
      "Requirement already satisfied: nbformat>=4.2.0 in /Users/carlosgaubert/anaconda3/lib/python3.9/site-packages (from ipywidgets->ipyfilechooser>=0.6.0->geemap) (5.5.0)\n",
      "Requirement already satisfied: MarkupSafe>=0.23 in /Users/carlosgaubert/anaconda3/lib/python3.9/site-packages (from jinja2>=2.9->folium>=0.13.0->geemap) (2.0.1)\n",
      "Requirement already satisfied: google-cloud-core<3.0dev,>=2.3.0 in /Users/carlosgaubert/anaconda3/lib/python3.9/site-packages (from google-cloud-storage->earthengine-api>=0.1.347->geemap) (2.3.3)\n",
      "Requirement already satisfied: google-resumable-media>=2.3.2 in /Users/carlosgaubert/anaconda3/lib/python3.9/site-packages (from google-cloud-storage->earthengine-api>=0.1.347->geemap) (2.5.0)\n",
      "Requirement already satisfied: certifi>=2017.4.17 in /Users/carlosgaubert/anaconda3/lib/python3.9/site-packages (from requests->earthengine-api>=0.1.347->geemap) (2022.9.24)\n",
      "Requirement already satisfied: charset-normalizer<3,>=2 in /Users/carlosgaubert/anaconda3/lib/python3.9/site-packages (from requests->earthengine-api>=0.1.347->geemap) (2.0.4)\n",
      "Requirement already satisfied: idna<4,>=2.5 in /Users/carlosgaubert/anaconda3/lib/python3.9/site-packages (from requests->earthengine-api>=0.1.347->geemap) (3.3)\n"
     ]
    },
    {
     "name": "stdout",
     "output_type": "stream",
     "text": [
      "Requirement already satisfied: decorator in /Users/carlosgaubert/anaconda3/lib/python3.9/site-packages (from ratelim->geocoder->geemap) (5.1.1)\n",
      "Requirement already satisfied: googleapis-common-protos<2.0.dev0,>=1.56.2 in /Users/carlosgaubert/anaconda3/lib/python3.9/site-packages (from google-api-core!=2.0.*,!=2.1.*,!=2.2.*,!=2.3.0,<3.0.0.dev0,>=1.31.5->google-api-python-client>=1.12.1->earthengine-api>=0.1.347->geemap) (1.60.0)\n",
      "Requirement already satisfied: protobuf!=3.20.0,!=3.20.1,!=4.21.0,!=4.21.1,!=4.21.2,!=4.21.3,!=4.21.4,!=4.21.5,<5.0.0.dev0,>=3.19.5 in /Users/carlosgaubert/anaconda3/lib/python3.9/site-packages (from google-api-core!=2.0.*,!=2.1.*,!=2.2.*,!=2.3.0,<3.0.0.dev0,>=1.31.5->google-api-python-client>=1.12.1->earthengine-api>=0.1.347->geemap) (4.24.0)\n",
      "Requirement already satisfied: google-crc32c<2.0dev,>=1.0 in /Users/carlosgaubert/anaconda3/lib/python3.9/site-packages (from google-resumable-media>=2.3.2->google-cloud-storage->earthengine-api>=0.1.347->geemap) (1.5.0)\n",
      "Requirement already satisfied: tornado>=6.1 in /Users/carlosgaubert/anaconda3/lib/python3.9/site-packages (from ipykernel>=4.5.1->ipywidgets->ipyfilechooser>=0.6.0->geemap) (6.1)\n",
      "Requirement already satisfied: jupyter-client>=6.1.12 in /Users/carlosgaubert/anaconda3/lib/python3.9/site-packages (from ipykernel>=4.5.1->ipywidgets->ipyfilechooser>=0.6.0->geemap) (7.3.4)\n",
      "Requirement already satisfied: pyzmq>=17 in /Users/carlosgaubert/anaconda3/lib/python3.9/site-packages (from ipykernel>=4.5.1->ipywidgets->ipyfilechooser>=0.6.0->geemap) (23.2.0)\n",
      "Requirement already satisfied: matplotlib-inline>=0.1 in /Users/carlosgaubert/anaconda3/lib/python3.9/site-packages (from ipykernel>=4.5.1->ipywidgets->ipyfilechooser>=0.6.0->geemap) (0.1.6)\n",
      "Requirement already satisfied: debugpy>=1.0 in /Users/carlosgaubert/anaconda3/lib/python3.9/site-packages (from ipykernel>=4.5.1->ipywidgets->ipyfilechooser>=0.6.0->geemap) (1.5.1)\n",
      "Requirement already satisfied: appnope in /Users/carlosgaubert/anaconda3/lib/python3.9/site-packages (from ipykernel>=4.5.1->ipywidgets->ipyfilechooser>=0.6.0->geemap) (0.1.2)\n",
      "Requirement already satisfied: psutil in /Users/carlosgaubert/anaconda3/lib/python3.9/site-packages (from ipykernel>=4.5.1->ipywidgets->ipyfilechooser>=0.6.0->geemap) (5.9.0)\n",
      "Requirement already satisfied: nest-asyncio in /Users/carlosgaubert/anaconda3/lib/python3.9/site-packages (from ipykernel>=4.5.1->ipywidgets->ipyfilechooser>=0.6.0->geemap) (1.5.5)\n",
      "Requirement already satisfied: setuptools>=18.5 in /Users/carlosgaubert/anaconda3/lib/python3.9/site-packages (from ipython>=4.0.0->ipywidgets->ipyfilechooser>=0.6.0->geemap) (63.4.1)\n",
      "Requirement already satisfied: backcall in /Users/carlosgaubert/anaconda3/lib/python3.9/site-packages (from ipython>=4.0.0->ipywidgets->ipyfilechooser>=0.6.0->geemap) (0.2.0)\n",
      "Requirement already satisfied: pickleshare in /Users/carlosgaubert/anaconda3/lib/python3.9/site-packages (from ipython>=4.0.0->ipywidgets->ipyfilechooser>=0.6.0->geemap) (0.7.5)\n",
      "Requirement already satisfied: pexpect>4.3 in /Users/carlosgaubert/anaconda3/lib/python3.9/site-packages (from ipython>=4.0.0->ipywidgets->ipyfilechooser>=0.6.0->geemap) (4.8.0)\n",
      "Requirement already satisfied: stack-data in /Users/carlosgaubert/anaconda3/lib/python3.9/site-packages (from ipython>=4.0.0->ipywidgets->ipyfilechooser>=0.6.0->geemap) (0.2.0)\n",
      "Requirement already satisfied: jedi>=0.16 in /Users/carlosgaubert/anaconda3/lib/python3.9/site-packages (from ipython>=4.0.0->ipywidgets->ipyfilechooser>=0.6.0->geemap) (0.18.1)\n",
      "Requirement already satisfied: prompt-toolkit!=3.0.0,!=3.0.1,<3.1.0,>=2.0.0 in /Users/carlosgaubert/anaconda3/lib/python3.9/site-packages (from ipython>=4.0.0->ipywidgets->ipyfilechooser>=0.6.0->geemap) (3.0.20)\n",
      "Requirement already satisfied: pygments>=2.4.0 in /Users/carlosgaubert/anaconda3/lib/python3.9/site-packages (from ipython>=4.0.0->ipywidgets->ipyfilechooser>=0.6.0->geemap) (2.11.2)\n",
      "Requirement already satisfied: jupyter_core in /Users/carlosgaubert/anaconda3/lib/python3.9/site-packages (from nbformat>=4.2.0->ipywidgets->ipyfilechooser>=0.6.0->geemap) (4.11.1)\n",
      "Requirement already satisfied: fastjsonschema in /Users/carlosgaubert/anaconda3/lib/python3.9/site-packages (from nbformat>=4.2.0->ipywidgets->ipyfilechooser>=0.6.0->geemap) (2.16.2)\n",
      "Requirement already satisfied: jsonschema>=2.6 in /Users/carlosgaubert/anaconda3/lib/python3.9/site-packages (from nbformat>=4.2.0->ipywidgets->ipyfilechooser>=0.6.0->geemap) (4.16.0)\n",
      "Requirement already satisfied: pyasn1<0.5.0,>=0.4.6 in /Users/carlosgaubert/anaconda3/lib/python3.9/site-packages (from pyasn1-modules>=0.2.1->google-auth>=1.4.1->earthengine-api>=0.1.347->geemap) (0.4.8)\n",
      "Requirement already satisfied: notebook>=4.4.1 in /Users/carlosgaubert/anaconda3/lib/python3.9/site-packages (from widgetsnbextension~=3.5.0->ipywidgets->ipyfilechooser>=0.6.0->geemap) (6.4.12)\n",
      "Requirement already satisfied: parso<0.9.0,>=0.8.0 in /Users/carlosgaubert/anaconda3/lib/python3.9/site-packages (from jedi>=0.16->ipython>=4.0.0->ipywidgets->ipyfilechooser>=0.6.0->geemap) (0.8.3)\n",
      "Requirement already satisfied: pyrsistent!=0.17.0,!=0.17.1,!=0.17.2,>=0.14.0 in /Users/carlosgaubert/anaconda3/lib/python3.9/site-packages (from jsonschema>=2.6->nbformat>=4.2.0->ipywidgets->ipyfilechooser>=0.6.0->geemap) (0.18.0)\n",
      "Requirement already satisfied: attrs>=17.4.0 in /Users/carlosgaubert/anaconda3/lib/python3.9/site-packages (from jsonschema>=2.6->nbformat>=4.2.0->ipywidgets->ipyfilechooser>=0.6.0->geemap) (21.4.0)\n",
      "Requirement already satisfied: entrypoints in /Users/carlosgaubert/anaconda3/lib/python3.9/site-packages (from jupyter-client>=6.1.12->ipykernel>=4.5.1->ipywidgets->ipyfilechooser>=0.6.0->geemap) (0.4)\n",
      "Requirement already satisfied: argon2-cffi in /Users/carlosgaubert/anaconda3/lib/python3.9/site-packages (from notebook>=4.4.1->widgetsnbextension~=3.5.0->ipywidgets->ipyfilechooser>=0.6.0->geemap) (21.3.0)\n",
      "Requirement already satisfied: nbconvert>=5 in /Users/carlosgaubert/anaconda3/lib/python3.9/site-packages (from notebook>=4.4.1->widgetsnbextension~=3.5.0->ipywidgets->ipyfilechooser>=0.6.0->geemap) (6.4.4)\n",
      "Requirement already satisfied: Send2Trash>=1.8.0 in /Users/carlosgaubert/anaconda3/lib/python3.9/site-packages (from notebook>=4.4.1->widgetsnbextension~=3.5.0->ipywidgets->ipyfilechooser>=0.6.0->geemap) (1.8.0)\n",
      "Requirement already satisfied: prometheus-client in /Users/carlosgaubert/anaconda3/lib/python3.9/site-packages (from notebook>=4.4.1->widgetsnbextension~=3.5.0->ipywidgets->ipyfilechooser>=0.6.0->geemap) (0.14.1)\n",
      "Requirement already satisfied: terminado>=0.8.3 in /Users/carlosgaubert/anaconda3/lib/python3.9/site-packages (from notebook>=4.4.1->widgetsnbextension~=3.5.0->ipywidgets->ipyfilechooser>=0.6.0->geemap) (0.13.1)\n",
      "Requirement already satisfied: ptyprocess>=0.5 in /Users/carlosgaubert/anaconda3/lib/python3.9/site-packages (from pexpect>4.3->ipython>=4.0.0->ipywidgets->ipyfilechooser>=0.6.0->geemap) (0.7.0)\n",
      "Requirement already satisfied: wcwidth in /Users/carlosgaubert/anaconda3/lib/python3.9/site-packages (from prompt-toolkit!=3.0.0,!=3.0.1,<3.1.0,>=2.0.0->ipython>=4.0.0->ipywidgets->ipyfilechooser>=0.6.0->geemap) (0.2.5)\n",
      "Requirement already satisfied: asttokens in /Users/carlosgaubert/anaconda3/lib/python3.9/site-packages (from stack-data->ipython>=4.0.0->ipywidgets->ipyfilechooser>=0.6.0->geemap) (2.0.5)\n",
      "Requirement already satisfied: executing in /Users/carlosgaubert/anaconda3/lib/python3.9/site-packages (from stack-data->ipython>=4.0.0->ipywidgets->ipyfilechooser>=0.6.0->geemap) (0.8.3)\n",
      "Requirement already satisfied: pure-eval in /Users/carlosgaubert/anaconda3/lib/python3.9/site-packages (from stack-data->ipython>=4.0.0->ipywidgets->ipyfilechooser>=0.6.0->geemap) (0.2.2)\n",
      "Requirement already satisfied: testpath in /Users/carlosgaubert/anaconda3/lib/python3.9/site-packages (from nbconvert>=5->notebook>=4.4.1->widgetsnbextension~=3.5.0->ipywidgets->ipyfilechooser>=0.6.0->geemap) (0.6.0)\n",
      "Requirement already satisfied: jupyterlab-pygments in /Users/carlosgaubert/anaconda3/lib/python3.9/site-packages (from nbconvert>=5->notebook>=4.4.1->widgetsnbextension~=3.5.0->ipywidgets->ipyfilechooser>=0.6.0->geemap) (0.1.2)\n",
      "Requirement already satisfied: nbclient<0.6.0,>=0.5.0 in /Users/carlosgaubert/anaconda3/lib/python3.9/site-packages (from nbconvert>=5->notebook>=4.4.1->widgetsnbextension~=3.5.0->ipywidgets->ipyfilechooser>=0.6.0->geemap) (0.5.13)\n",
      "Requirement already satisfied: beautifulsoup4 in /Users/carlosgaubert/anaconda3/lib/python3.9/site-packages (from nbconvert>=5->notebook>=4.4.1->widgetsnbextension~=3.5.0->ipywidgets->ipyfilechooser>=0.6.0->geemap) (4.11.1)\n",
      "Requirement already satisfied: defusedxml in /Users/carlosgaubert/anaconda3/lib/python3.9/site-packages (from nbconvert>=5->notebook>=4.4.1->widgetsnbextension~=3.5.0->ipywidgets->ipyfilechooser>=0.6.0->geemap) (0.7.1)\n",
      "Requirement already satisfied: pandocfilters>=1.4.1 in /Users/carlosgaubert/anaconda3/lib/python3.9/site-packages (from nbconvert>=5->notebook>=4.4.1->widgetsnbextension~=3.5.0->ipywidgets->ipyfilechooser>=0.6.0->geemap) (1.5.0)\n",
      "Requirement already satisfied: mistune<2,>=0.8.1 in /Users/carlosgaubert/anaconda3/lib/python3.9/site-packages (from nbconvert>=5->notebook>=4.4.1->widgetsnbextension~=3.5.0->ipywidgets->ipyfilechooser>=0.6.0->geemap) (0.8.4)\n",
      "Requirement already satisfied: bleach in /Users/carlosgaubert/anaconda3/lib/python3.9/site-packages (from nbconvert>=5->notebook>=4.4.1->widgetsnbextension~=3.5.0->ipywidgets->ipyfilechooser>=0.6.0->geemap) (4.1.0)\n"
     ]
    },
    {
     "name": "stdout",
     "output_type": "stream",
     "text": [
      "Requirement already satisfied: argon2-cffi-bindings in /Users/carlosgaubert/anaconda3/lib/python3.9/site-packages (from argon2-cffi->notebook>=4.4.1->widgetsnbextension~=3.5.0->ipywidgets->ipyfilechooser>=0.6.0->geemap) (21.2.0)\n",
      "Requirement already satisfied: cffi>=1.0.1 in /Users/carlosgaubert/anaconda3/lib/python3.9/site-packages (from argon2-cffi-bindings->argon2-cffi->notebook>=4.4.1->widgetsnbextension~=3.5.0->ipywidgets->ipyfilechooser>=0.6.0->geemap) (1.15.1)\n",
      "Requirement already satisfied: soupsieve>1.2 in /Users/carlosgaubert/anaconda3/lib/python3.9/site-packages (from beautifulsoup4->nbconvert>=5->notebook>=4.4.1->widgetsnbextension~=3.5.0->ipywidgets->ipyfilechooser>=0.6.0->geemap) (2.3.1)\n",
      "Requirement already satisfied: webencodings in /Users/carlosgaubert/anaconda3/lib/python3.9/site-packages (from bleach->nbconvert>=5->notebook>=4.4.1->widgetsnbextension~=3.5.0->ipywidgets->ipyfilechooser>=0.6.0->geemap) (0.5.1)\n",
      "Requirement already satisfied: pycparser in /Users/carlosgaubert/anaconda3/lib/python3.9/site-packages (from cffi>=1.0.1->argon2-cffi-bindings->argon2-cffi->notebook>=4.4.1->widgetsnbextension~=3.5.0->ipywidgets->ipyfilechooser>=0.6.0->geemap) (2.21)\n",
      "Installing collected packages: pyperclip, colour, xyzservices, traittypes, scooby, ratelim, python-box, pyshp, geocoder, branca, folium, eerepr, ipytree, ipyleaflet, ipyfilechooser, ipyevents, bqplot, geemap\n",
      "Successfully installed bqplot-0.12.40 branca-0.6.0 colour-0.1.5 eerepr-0.0.4 folium-0.14.0 geemap-0.25.0 geocoder-1.38.1 ipyevents-2.0.1 ipyfilechooser-0.6.0 ipyleaflet-0.17.3 ipytree-0.2.2 pyperclip-1.8.2 pyshp-2.3.1 python-box-7.0.1 ratelim-0.1.6 scooby-0.7.2 traittypes-0.2.1 xyzservices-2023.7.0\n",
      "Note: you may need to restart the kernel to use updated packages.\n"
     ]
    }
   ],
   "source": [
    "pip install geemap"
   ]
  },
  {
   "cell_type": "code",
   "execution_count": 3,
   "id": "f333db33",
   "metadata": {},
   "outputs": [],
   "source": [
    "import geemap"
   ]
  },
  {
   "cell_type": "code",
   "execution_count": 4,
   "id": "d1cc08c9",
   "metadata": {},
   "outputs": [],
   "source": [
    "Map = geemap.Map()"
   ]
  },
  {
   "cell_type": "code",
   "execution_count": 8,
   "id": "6b35d669",
   "metadata": {},
   "outputs": [
    {
     "data": {
      "application/vnd.jupyter.widget-view+json": {
       "model_id": "e48c4306f96b490aa8f717520d00ac2e",
       "version_major": 2,
       "version_minor": 0
      },
      "text/plain": [
       "Map(bottom=639733.9999420166, center=[-36.72402573099714, -73.01701270679948], controls=(WidgetControl(options…"
      ]
     },
     "metadata": {},
     "output_type": "display_data"
    }
   ],
   "source": [
    "Map\n"
   ]
  },
  {
   "cell_type": "code",
   "execution_count": 12,
   "id": "4fbfa9bf",
   "metadata": {},
   "outputs": [
    {
     "name": "stdout",
     "output_type": "stream",
     "text": [
      "Geometría del polígono: ee.Geometry({\n",
      "  \"functionInvocationValue\": {\n",
      "    \"functionName\": \"Feature.geometry\",\n",
      "    \"arguments\": {\n",
      "      \"feature\": {\n",
      "        \"functionInvocationValue\": {\n",
      "          \"functionName\": \"Feature\",\n",
      "          \"arguments\": {\n",
      "            \"geometry\": {\n",
      "              \"functionInvocationValue\": {\n",
      "                \"functionName\": \"GeometryConstructors.Polygon\",\n",
      "                \"arguments\": {\n",
      "                  \"coordinates\": {\n",
      "                    \"constantValue\": [\n",
      "                      [\n",
      "                        [\n",
      "                          -73.130676,\n",
      "                          -36.766633\n",
      "                        ],\n",
      "                        [\n",
      "                          -73.130676,\n",
      "                          -36.716561\n",
      "                        ],\n",
      "                        [\n",
      "                          -73.030394,\n",
      "                          -36.716561\n",
      "                        ],\n",
      "                        [\n",
      "                          -73.030394,\n",
      "                          -36.766633\n",
      "                        ],\n",
      "                        [\n",
      "                          -73.130676,\n",
      "                          -36.766633\n",
      "                        ]\n",
      "                      ]\n",
      "                    ]\n",
      "                  }\n",
      "                }\n",
      "              }\n",
      "            }\n",
      "          }\n",
      "        }\n",
      "      }\n",
      "    }\n",
      "  }\n",
      "})\n"
     ]
    }
   ],
   "source": [
    "polygon = Map.draw_last_feature\n",
    "geometry = polygon.geometry()\n",
    "print(\"Geometría del polígono:\", geometry)"
   ]
  },
  {
   "cell_type": "code",
   "execution_count": null,
   "id": "e69efbbb",
   "metadata": {},
   "outputs": [],
   "source": [
    "image = ee.ImageCollection('COPERNICUS/S2') \\\n",
    "            .filterDate('2021-01-01','2021-01-31') \\\n",
    "            .filter(ee)"
   ]
  }
 ],
 "metadata": {
  "kernelspec": {
   "display_name": "Python 3 (ipykernel)",
   "language": "python",
   "name": "python3"
  },
  "language_info": {
   "codemirror_mode": {
    "name": "ipython",
    "version": 3
   },
   "file_extension": ".py",
   "mimetype": "text/x-python",
   "name": "python",
   "nbconvert_exporter": "python",
   "pygments_lexer": "ipython3",
   "version": "3.9.13"
  }
 },
 "nbformat": 4,
 "nbformat_minor": 5
}
